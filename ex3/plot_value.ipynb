{
 "cells": [
  {
   "cell_type": "code",
   "execution_count": null,
   "metadata": {},
   "outputs": [],
   "source": [
    "import sys, os\n",
    "sys.path.insert(0, os.path.abspath(\"..\"))\n",
    "import numpy as np\n",
    "from pathlib import Path\n",
    "from matplotlib import pyplot as plt\n",
    "import seaborn as sns\n",
    "\n",
    "from common import helper as h"
   ]
  },
  {
   "cell_type": "code",
   "execution_count": null,
   "metadata": {},
   "outputs": [],
   "source": [
    "# load the Q-value array\n",
    "env_name = \"CartPole-v0\"\n",
    "\n",
    "work_dir = Path().cwd()/'results'/f'{env_name}'\n",
    "data = h.load_object(work_dir/'q_table.pkl') # load q_table \n",
    "q_axis, q_table = data['axis'], data['q_table']\n",
    "x_axis, th_axis = q_axis[0], q_axis[2]  #get the axis for x and \\theta\n",
    "\n",
    "discr = q_table.shape[0]\n"
   ]
  },
  {
   "cell_type": "code",
   "execution_count": null,
   "metadata": {},
   "outputs": [],
   "source": [
    "# TODO: Task 1.2 Plot the heatmap of the value function\n",
    "########## Your code begins here. ##########\n",
    "# Calculate the value function\n",
    "values = np.zeros(q_table.shape[:-1]) \n",
    "\n",
    "# Plot the heatmap\n",
    "\n",
    "########## Your code ends here. ##########"
   ]
  },
  {
   "cell_type": "code",
   "execution_count": null,
   "metadata": {},
   "outputs": [],
   "source": [
    "# save value \n",
    "h.save_object({'value': values, 'axis': q_axis},\n",
    "                work_dir/\"value.pkl\")"
   ]
  }
 ],
 "metadata": {
  "kernelspec": {
   "display_name": "Python 3 (ipykernel)",
   "language": "python",
   "name": "python3"
  },
  "language_info": {
   "codemirror_mode": {
    "name": "ipython",
    "version": 3
   },
   "file_extension": ".py",
   "mimetype": "text/x-python",
   "name": "python",
   "nbconvert_exporter": "python",
   "pygments_lexer": "ipython3",
   "version": "3.8.12"
  },
  "vscode": {
   "interpreter": {
    "hash": "fd83ff56f6777e6e758811c394427f18acade90acb82137bfcd1e92d18c6a724"
   }
  }
 },
 "nbformat": 4,
 "nbformat_minor": 2
}
