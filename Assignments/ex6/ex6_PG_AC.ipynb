{
 "cells": [
  {
   "cell_type": "markdown",
   "id": "8323a86e",
   "metadata": {},
   "source": [
    "\n",
    "<div class=\"alert alert-block alert-info\">\n",
    "   <h2 align=\"center\"> <center><b> Reinforcement Learning Assignment 6 - Actor Critic part 1 </b></center></h2>\n",
    "\n",
    "<br>\n",
    "<center><font size=\"3\">This notebook is part of the teaching material for ELEC-E8125</font></center>\n",
    "<center><font size=\"3\">Sep 4, 2023 - Nov 30, 2023</font></center>\n",
    "<center><font size=\"3\">Aalto University</font></center>\n",
    "</div>\n",
    "\n",
    "\n",
    "<a id='TOC'></a>\n",
    "\n",
    "<div class=\"alert alert-block alert-success\">\n",
    "    \n",
    "# Table of contents\n",
    "* <a href='#1.'> 1. Introduction </a>\n",
    "* <a href='#1.1'> 1.1 Learning Objectives </a>\n",
    "* <a href='#1.2'> 1.2 Code Structure & Files </a>\n",
    "* <a href='#2.'> 2. Policy Gradient with a Critic </a>\n",
    "* <a href='#3.'> 3. Submitting </a>\n",
    "* <a href='#3.1'> 3.1 Feedback </a>\n",
    "* <a href='#4.'> References</a>\n",
    "\n",
    "<a href='#T1'><b>Student Task 1.</b> Implementing PG with critic (20 points)</a>\\\n",
    "<a href='#Q1'><b>Student Question 1.1</b> Relationship between actor-critic and REINFORCE with baseline (10 points)</a>\\\n",
    "<a href='#Q2'><b>Student Question 1.2</b> Advantage (5 points)  </a>\\\n",
    "<a href='#Q3'><b>Student Question 1.3</b> Bias and Variance Analysis (10 points) </a>\\\n",
    "<a href='#Q4'><b>Student Question 1.4</b> Controlling bias-variance tradeoff (10 points)</a>\n",
    "    \n",
    "**Total Points:** 55"
   ]
  },
  {
   "cell_type": "markdown",
   "id": "ab53631b",
   "metadata": {},
   "source": [
    "# 1. Introduction <a id='1.'></a>\n",
    "\n",
    "In this assignment, we will implement an actor-critic reinforcement learning algorithm which combines elements of both value-based methods (critic) and policy-based methods (actor) to improve learning and stability in the **InvertedPendulum-v4**  environment.\n",
    "\n",
    "## 1.1 Task environments: <a id='1.1'></a>\n",
    "\n",
    "In this exercise, we will focus on InvertedPendulum-v4 tasks:\n",
    "- InvertedPendulum-v4(https://www.gymlibrary.dev/environments/mujoco/inverted_pendulum/): This environment is similar to the cartpole environment but now powered by the Mujoco physics simulator - allowing for more complex experiments (such as varying the effects of gravity). This environment involves a cart that moves horizontally, with a pole fixed on the cart at one end and the other end of the pole moving freely. The cart can be pushed left or right. The goal is to move the pole such that it is vertically above the cart pointing straight up by applying horizontal forces on the cart.\n",
    "<figure style=\"text-align: center\">\n",
    "    <img src=\"imgs/InvertedPendulum.png\" width=\"300\"/>\n",
    "    <figcaption style=\"text-align: center\">  Figure 1: The InvertedPendulum-v4 environment. </figcaption>\n",
    "</figure>\n",
    "\n",
    "## 1.2 Learning Objectives: <a id='1.1'></a>\n",
    "\n",
    "- Understand the idea of actor-critic algorithms\n",
    "- Understand the limits and use cases of actor-critics\n",
    "\n",
    "## 1.3 Code Structure & Files <a id='1.2'></a>\n",
    "\n",
    "```ex6_PG_AC.ipynb``` is the file needed to be modified for this part of the assignment.  \n",
    "\n",
    "<span style=\"color:red\"> **# IMPORTANT: DO NOT FORGET ANOTHER PART IN ```ex6_DDPG.ipynb```** </span>\n",
    "\n",
    "```\n",
    "├───cfg                            # Config files for environments\n",
    "├───imgs                           # Images used in notebook\n",
    "├───results\n",
    "│   └───HalfCheetah-v4\n",
    "│   │   ├───logging                \n",
    "│   │   │    └───logging.pkl        # Contains logged data\n",
    "│   │   ├───model              \n",
    "│   │   │    └───*HalfCheetah-v4_params.pt    # Contains trained model\n",
    "│   │   └───video                   # Videos saved\n",
    "│   │   └───*ddpg.png               # Contains training performance plot\n",
    "│   └───InvertedPendulum-v4\n",
    "│   │   ├───logging                \n",
    "│   │   │    └───logging.pkl        # Contains logged data\n",
    "│   │   ├───model              \n",
    "│   │   │    └───*InvertedPendulum-v4_params.pt      # Contains trained model\n",
    "│   │   └───video                   # Videos saved\n",
    "│   │   └───*pg_ac.png              # Contains training performance plot\n",
    "│   ex6_DDPG.ipynb                  # 2nd assignment file containing tasks <---------\n",
    "│   ex6_PG_AC.ipynb                 # 1st assignment file containing tasks <---------This task\n",
    "│   train.py                        # Contains train and test functions \n",
    "│   utils.py                        # Contains useful functions \n",
    "└───buffer.py                       # Contains buffer functions\n",
    "```\n",
    "\n",
    "## 1.4 Execution time <a id='1.4'></a>\n",
    "\n",
    "The training of DDPG may take more than 15 mins depending on the server load. If you have problems with the training time, you can train locally."
   ]
  },
  {
   "cell_type": "markdown",
   "id": "eb79df48",
   "metadata": {},
   "source": [
    "\n",
    "# 2. Policy Gradient with a Critic <a id='2.'></a>"
   ]
  },
  {
   "cell_type": "markdown",
   "id": "c584d11d",
   "metadata": {},
   "source": [
    "<a id='T1'></a>\n",
    "<div class=\" alert alert-warning\">\n",
    "    <h3><b>Student Task 1.</b> Implement policy gradient (PG) with critic (20 points) </h3> \n",
    "\n",
    "Revisit the policy gradient solution for the InvertedPendulum from Exercise 5 with learned sigma if needed. Implement the actor-critic algorithm below. Perform TD(0) updates at the end of each episode. You can check the training performance plot in the result folder after running the plot cell. Take Figure 2 as a reference training plot. \n",
    "    \n",
    "**Hint:** Check out the PyTorch tutorial from Mycourses to see how to calculate the $A_\\theta \\Delta_\\theta \\log \\pi_\\theta(a_i|s_i)$ term using the ```detach()``` function. \n",
    "\n",
    "<figure style=\"text-align: center\">\n",
    "<img src=\"imgs/pg_ac.png\" width=\"400px\">\n",
    "<figcaption style=\"text-align: center\"> Figure 2: Training plot of the policy gradient with a critic.\n",
    "</figcaption>\n",
    "</figure>\n",
    "     \n",
    "**Complete the all the unfinished implementation in `PG` class (marked with ```TODOs```)**. \n",
    "    \n",
    "1. **Policy Network**: Finish the `__init__(self, state_dim, action_dim)` function and `forward(self, state)` function within the `Policy` class\n",
    "2. **Agent Update Function**: Finish the `update(self, )` function within the `PG` class\n",
    "3. **Get Action Method**: Finish the `get_action(self, observation, evaluation=False)` function within the `PG` class.\n",
    "    \n",
    "🔝\t<a href='#TOC'><b>Table of Contents</b></a>\n",
    "</div>\n"
   ]
  },
  {
   "cell_type": "code",
   "execution_count": 3,
   "id": "fad4384f",
   "metadata": {
    "tags": []
   },
   "outputs": [],
   "source": [
    "import sys, os\n",
    "sys.path.insert(0, os.path.abspath(\"..\"))\n",
    "import torch, yaml\n",
    "import torch.nn.functional as F\n",
    "from torch import nn\n",
    "from torch.distributions import Normal\n",
    "import numpy as np\n",
    "from pathlib import Path\n",
    "from IPython.display import Video\n",
    "\n",
    "\n",
    "import train as t\n",
    "import utils as u\n",
    "\n",
    "device = 'cpu'"
   ]
  },
  {
   "cell_type": "code",
   "execution_count": 4,
   "id": "a6634d41",
   "metadata": {
    "tags": []
   },
   "outputs": [],
   "source": [
    "# Actor-critic agent\n",
    "def layer_init(layer, std=np.sqrt(2), bias_const=0.0):\n",
    "    torch.nn.init.orthogonal_(layer.weight, std)\n",
    "    torch.nn.init.constant_(layer.bias, bias_const)\n",
    "    return layer\n",
    "\n",
    "class Policy(nn.Module):\n",
    "    def __init__(self, state_dim, action_dim):\n",
    "        super().__init__()\n",
    "        # Create a neural network and use it for the mean of the policy.\n",
    "        # The size of the neural network here has been chosen such that \n",
    "        # it is not too big but should perform well in the tasks we want to look at.\n",
    "        self.actor_mean = nn.Sequential(\n",
    "            layer_init(nn.Linear(state_dim, 64)), nn.Tanh(),\n",
    "            layer_init(nn.Linear(64, 64)), nn.Tanh(),\n",
    "            layer_init(nn.Linear(64, action_dim), std=0.01),\n",
    "        )\n",
    "        # TODO: Implement actor_logstd as a learnable parameter\n",
    "        # Use log of std to make sure std (standard deviation) of the policy\n",
    "        # doesn't become negative during training\n",
    "        self.actor_logstd = nn.Parameter(torch.zeros(1, action_dim))\n",
    "\n",
    "\n",
    "    def forward(self, state):\n",
    "        # Get mean of a Normal distribution (the output of the neural network)\n",
    "        action_mean = self.actor_mean(state)\n",
    "\n",
    "        # Make sure action_logstd matches dimensions of action_mean\n",
    "        action_logstd = self.actor_logstd.expand_as(action_mean)\n",
    "\n",
    "        # Exponentiate the log std to get actual std\n",
    "        action_std = torch.exp(action_logstd)\n",
    "\n",
    "        # TODO: Create a Normal distribution with mean of 'action_mean' and standard deviation of 'action_logstd', and return the distribution\n",
    "        probs = Normal(action_mean, action_std) \n",
    "\n",
    "        return probs\n",
    "\n",
    "class Value(nn.Module):\n",
    "    def __init__(self, state_dim):\n",
    "        super().__init__()\n",
    "        self.value = nn.Sequential(\n",
    "            layer_init(nn.Linear(state_dim, 64)), nn.Tanh(),\n",
    "            layer_init(nn.Linear(64, 64)), nn.Tanh(),\n",
    "            layer_init(nn.Linear(64, 1)))\n",
    "    \n",
    "    def forward(self, x):\n",
    "        return self.value(x).squeeze(1) # output shape [batch,]\n",
    "\n",
    "\n",
    "class PG(object):\n",
    "    def __init__(self, state_dim, action_dim, lr, gamma):\n",
    "        self.name = 'pg'\n",
    "        self.policy = Policy(state_dim, action_dim).to(device)\n",
    "        self.value = Value(state_dim).to(device)\n",
    "        self.optimizer = torch.optim.Adam(list(self.policy.parameters())+ list(self.value.parameters()), \n",
    "                                         lr=float(lr),)\n",
    "\n",
    "        self.gamma = gamma\n",
    "\n",
    "        # a simple buffer\n",
    "        self.states = []\n",
    "        self.action_probs = []\n",
    "        self.rewards = []\n",
    "        self.dones = []\n",
    "        self.next_states = []\n",
    "\n",
    "\n",
    "    def update(self,):\n",
    "        action_probs = torch.stack(self.action_probs, dim=0) \\\n",
    "                .to(device).squeeze(-1)\n",
    "        rewards = torch.stack(self.rewards, dim=0).to(device).squeeze(-1)\n",
    "        states = torch.stack(self.states, dim=0).to(device).squeeze(-1)\n",
    "        next_states = torch.stack(self.next_states, dim=0).to(device).squeeze(-1)\n",
    "        dones = torch.stack(self.dones, dim=0).to(device).squeeze(-1)\n",
    "        # clear buffer\n",
    "        self.states, self.action_probs, self.rewards, self.dones, self.next_states = [], [], [], [], []\n",
    "\n",
    "        # TODO:\n",
    "        ########## Your code starts here. ##########\n",
    "        # Hints: 1. calculate the TD target as well as the MSE loss between the predicted value and the TD target\n",
    "        #        2. calculate the policy loss (similar to ex5) with advantage calculated from the value function. Normalise\n",
    "        #           the advantage to zero mean and unit variance.\n",
    "        #        3. update parameters of the policy and the value function jointly\n",
    "\n",
    "\n",
    "        # calculate the target values\n",
    "        with torch.no_grad():\n",
    "            # The value function estimates for the next states\n",
    "            next_state_values = self.value(next_states)\n",
    "            # The term (1 - dones) ensures that the value of the next state is zero if the episode has ended.\n",
    "            td_target = rewards + self.gamma * next_state_values * (1.0 - dones)\n",
    "            \n",
    "        # calculate the critic_loss\n",
    "        current_state_values = self.value(states)\n",
    "        critic_loss = F.mse_loss(current_state_values, td_target)\n",
    "\n",
    "        # Advantage estimation\n",
    "        with torch.no_grad():\n",
    "            # The advantage function represents how much better an action is compared to the average action in that state.\n",
    "            advantage = td_target - current_state_values\n",
    "            # The advantage is then standardized\n",
    "            advantage = (advantage - advantage.mean()) / (advantage.std())\n",
    "\n",
    "        # Compute the optimization term \n",
    "        # The negative sign indicates that the goal is to maximize the action prob.\n",
    "        weighted_probs = - action_probs * advantage\n",
    "        actor_loss = weighted_probs.mean()\n",
    "\n",
    "        # Compute the gradients of loss w.r.t. network parameters \n",
    "        gradient_loss = critic_loss + actor_loss\n",
    "        gradient_loss.backward()\n",
    "        \n",
    "        # Update network parameters using self.optimizer and zero gradients \n",
    "        self.optimizer.step()\n",
    "        # Resets the gradients to zero, preparing for the next update.\n",
    "        self.optimizer.zero_grad()\n",
    "        \n",
    "        ########## Your code ends here. ##########\n",
    "\n",
    "        return {}\n",
    "\n",
    "\n",
    "    def get_action(self, observation, evaluation=False):\n",
    "        \"\"\"Return action (np.ndarray) and logprob (torch.Tensor) of this action.\"\"\"\n",
    "        if observation.ndim == 1: observation = observation[None] # add the batch dimension\n",
    "        x = torch.from_numpy(observation).float().to(device)\n",
    "\n",
    "        # TODO: Task 1\n",
    "        ########## Your code starts here. ##########\n",
    "        # Hints: 1. the self.policy returns a normal distribution, check the PyTorch document to see \n",
    "        #           how to calculate the log_prob of an action and how to sample.\n",
    "        #        2. if evaluating the policy, return policy mean, otherwise, return a sample\n",
    "        #        3. the returned action and the act_logprob should be torch.Tensors.\n",
    "        #            Please always make sure the shape of variables is as you expected.\n",
    "        \n",
    "        # calculate action\n",
    "        #action = \n",
    "        distribution = self.policy(x)\n",
    "        if evaluation:\n",
    "            action = distribution.mean\n",
    "        else:\n",
    "            action = distribution.sample()\n",
    "        \n",
    "        # calculate the log probability of the action\n",
    "        #act_logprob = \n",
    "        act_logprob = distribution.log_prob(action).sum(dim=-1).squeeze()\n",
    "        \n",
    "        ########## Your code ends here. ###########\n",
    "\n",
    "        return action, act_logprob\n",
    "\n",
    "\n",
    "    def record(self, observation, action_prob, next_observation, reward, done):\n",
    "        self.states.append(torch.tensor(observation, dtype=torch.float32))\n",
    "        self.action_probs.append(action_prob)\n",
    "        self.rewards.append(torch.tensor([reward], dtype=torch.float32))\n",
    "        self.dones.append(torch.tensor([done], dtype=torch.float32))\n",
    "        self.next_states.append(torch.tensor(next_observation, dtype=torch.float32))\n",
    "\n",
    "\n",
    "    def load(self, filepath):\n",
    "        d = torch.load(filepath)\n",
    "        self.policy.load_state_dict(d['policy'])\n",
    "        self.value.load_state_dict(d['value'])\n",
    "    \n",
    "    def save(self, filepath):\n",
    "        torch.save({\n",
    "            'policy': self.policy.state_dict(),\n",
    "            'value': self.value.state_dict(),\n",
    "        }, filepath)"
   ]
  },
  {
   "cell_type": "code",
   "execution_count": 5,
   "id": "8c6b02f2-891d-40c1-b01a-9bd370009a3a",
   "metadata": {
    "tags": []
   },
   "outputs": [],
   "source": [
    "# init agent\n",
    "with open(Path().cwd()/'cfg'/'pg_ac.yaml', 'r') as f:\n",
    "    cfg = u.Struct(**yaml.safe_load(f))\n",
    "    \n",
    "agent = PG(cfg.state_shape[0], cfg.action_dim, cfg.lr, cfg.gamma)"
   ]
  },
  {
   "cell_type": "code",
   "execution_count": 6,
   "id": "5fad7389",
   "metadata": {
    "tags": []
   },
   "outputs": [
    {
     "name": "stdout",
     "output_type": "stream",
     "text": [
      "Numpy/Torch/Random Seed:  234\n",
      "{'episode': 0, 'timesteps': 4, 'ep_reward': 4.0}\n",
      "{'episode': 50, 'timesteps': 5, 'ep_reward': 5.0}\n",
      "{'episode': 100, 'timesteps': 13, 'ep_reward': 13.0}\n",
      "{'episode': 150, 'timesteps': 13, 'ep_reward': 13.0}\n",
      "{'episode': 200, 'timesteps': 7, 'ep_reward': 7.0}\n",
      "{'episode': 250, 'timesteps': 21, 'ep_reward': 21.0}\n",
      "{'episode': 300, 'timesteps': 44, 'ep_reward': 44.0}\n",
      "{'episode': 350, 'timesteps': 118, 'ep_reward': 118.0}\n",
      "{'episode': 400, 'timesteps': 77, 'ep_reward': 77.0}\n",
      "{'episode': 450, 'timesteps': 72, 'ep_reward': 72.0}\n",
      "{'episode': 500, 'timesteps': 54, 'ep_reward': 54.0}\n",
      "{'episode': 550, 'timesteps': 61, 'ep_reward': 61.0}\n",
      "{'episode': 600, 'timesteps': 80, 'ep_reward': 80.0}\n",
      "{'episode': 650, 'timesteps': 182, 'ep_reward': 182.0}\n",
      "{'episode': 700, 'timesteps': 193, 'ep_reward': 193.0}\n",
      "{'episode': 750, 'timesteps': 92, 'ep_reward': 92.0}\n",
      "{'episode': 800, 'timesteps': 274, 'ep_reward': 274.0}\n",
      "{'episode': 850, 'timesteps': 126, 'ep_reward': 126.0}\n",
      "{'episode': 900, 'timesteps': 151, 'ep_reward': 151.0}\n",
      "{'episode': 950, 'timesteps': 53, 'ep_reward': 53.0}\n",
      "{'episode': 1000, 'timesteps': 20, 'ep_reward': 20.0}\n",
      "{'episode': 1050, 'timesteps': 22, 'ep_reward': 22.0}\n",
      "{'episode': 1100, 'timesteps': 8, 'ep_reward': 8.0}\n",
      "{'episode': 1150, 'timesteps': 9, 'ep_reward': 9.0}\n",
      "{'episode': 1200, 'timesteps': 11, 'ep_reward': 11.0}\n",
      "{'episode': 1250, 'timesteps': 11, 'ep_reward': 11.0}\n",
      "{'episode': 1300, 'timesteps': 17, 'ep_reward': 17.0}\n",
      "{'episode': 1350, 'timesteps': 16, 'ep_reward': 16.0}\n",
      "{'episode': 1400, 'timesteps': 31, 'ep_reward': 31.0}\n",
      "{'episode': 1450, 'timesteps': 23, 'ep_reward': 23.0}\n",
      "{'episode': 1500, 'timesteps': 22, 'ep_reward': 22.0}\n",
      "{'episode': 1550, 'timesteps': 31, 'ep_reward': 31.0}\n",
      "{'episode': 1600, 'timesteps': 36, 'ep_reward': 36.0}\n",
      "{'episode': 1650, 'timesteps': 78, 'ep_reward': 78.0}\n",
      "{'episode': 1700, 'timesteps': 38, 'ep_reward': 38.0}\n",
      "{'episode': 1750, 'timesteps': 257, 'ep_reward': 257.0}\n",
      "{'episode': 1800, 'timesteps': 187, 'ep_reward': 187.0}\n",
      "{'episode': 1850, 'timesteps': 741, 'ep_reward': 741.0}\n",
      "{'episode': 1900, 'timesteps': 262, 'ep_reward': 262.0}\n",
      "{'episode': 1950, 'timesteps': 1000, 'ep_reward': 1000.0}\n",
      "{'episode': 2000, 'timesteps': 1000, 'ep_reward': 1000.0}\n",
      "Saving model to /notebooks/rl2023/ex6/results/InvertedPendulum-v4/model/InvertedPendulum-v4_params.pt\n",
      "------ Training Finished ------\n",
      "Total traning time is 6.411508023738861mins\n"
     ]
    }
   ],
   "source": [
    "t.train(agent, cfg_path=Path().cwd()/'cfg'/'pg_ac.yaml', cfg_args={})"
   ]
  },
  {
   "cell_type": "code",
   "execution_count": 7,
   "id": "f8041f0c-73f8-4f23-bbd2-4a976a8b842a",
   "metadata": {
    "tags": []
   },
   "outputs": [
    {
     "name": "stdout",
     "output_type": "stream",
     "text": [
      "Numpy/Torch/Random Seed:  457\n"
     ]
    },
    {
     "data": {
      "image/png": "[encoded data removed]",
      "text/plain": [
       "<Figure size 640x480 with 1 Axes>"
      ]
     },
     "metadata": {},
     "output_type": "display_data"
    }
   ],
   "source": [
    "t.plot(cfg_path=Path().cwd()/'cfg'/'pg_ac.yaml',)"
   ]
  },
  {
   "cell_type": "code",
   "execution_count": 8,
   "id": "91d4922b",
   "metadata": {
    "tags": []
   },
   "outputs": [
    {
     "name": "stdout",
     "output_type": "stream",
     "text": [
      "Numpy/Torch/Random Seed:  355\n",
      "Loading model from /notebooks/rl2023/ex6/results/InvertedPendulum-v4/model/InvertedPendulum-v4_params.pt ...\n",
      "Testing ...\n",
      "Moviepy - Building video /notebooks/rl2023/ex6/results/InvertedPendulum-v4/video/test/ex6-episode-0.mp4.\n",
      "Moviepy - Writing video /notebooks/rl2023/ex6/results/InvertedPendulum-v4/video/test/ex6-episode-0.mp4\n",
      "\n"
     ]
    },
    {
     "name": "stderr",
     "output_type": "stream",
     "text": [
      "                                                                \r"
     ]
    },
    {
     "name": "stdout",
     "output_type": "stream",
     "text": [
      "Moviepy - Done !\n",
      "Moviepy - video ready /notebooks/rl2023/ex6/results/InvertedPendulum-v4/video/test/ex6-episode-0.mp4\n",
      "Ep0: Test ep_reward is 1000.0\n",
      "Ep1: Test ep_reward is 1000.0\n",
      "Ep2: Test ep_reward is 1000.0\n",
      "Ep3: Test ep_reward is 1000.0\n",
      "Ep4: Test ep_reward is 1000.0\n",
      "Ep5: Test ep_reward is 1000.0\n",
      "Ep6: Test ep_reward is 1000.0\n",
      "Ep7: Test ep_reward is 1000.0\n",
      "Ep8: Test ep_reward is 1000.0\n",
      "Moviepy - Building video /notebooks/rl2023/ex6/results/InvertedPendulum-v4/video/test/ex6-episode-9.mp4.\n",
      "Moviepy - Writing video /notebooks/rl2023/ex6/results/InvertedPendulum-v4/video/test/ex6-episode-9.mp4\n",
      "\n"
     ]
    },
    {
     "name": "stderr",
     "output_type": "stream",
     "text": [
      "                                                                \r"
     ]
    },
    {
     "name": "stdout",
     "output_type": "stream",
     "text": [
      "Moviepy - Done !\n",
      "Moviepy - video ready /notebooks/rl2023/ex6/results/InvertedPendulum-v4/video/test/ex6-episode-9.mp4\n",
      "Ep9: Test ep_reward is 1000.0\n",
      "Average test reward: 1000.0\n"
     ]
    }
   ],
   "source": [
    "t.test(agent, cfg_path=Path().cwd()/'cfg'/'pg_ac.yaml', cfg_args=dict(save_video=True,testing=True))"
   ]
  },
  {
   "cell_type": "code",
   "execution_count": 10,
   "id": "2edb556b-187c-4662-a1df-60dc87917930",
   "metadata": {
    "tags": []
   },
   "outputs": [
    {
     "data": {
      "text/html": [
       "<video loop autoplay  >\n",
       " <source src=\"data:video/mp4;base64,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\" type=\"video/mp4\">\n",
       " Your browser does not support the video tag.\n",
       " </video>"
      ],
      "text/plain": [
       "<IPython.core.display.Video object>"
      ]
     },
     "execution_count": 10,
     "metadata": {},
     "output_type": "execute_result"
    }
   ],
   "source": [
    "Video(Path().cwd()/'results'/'InvertedPendulum-v4'/'video'/'test'/'ex6-episode-9.mp4',\n",
    "      embed=True, html_attributes=\"loop autoplay\") # Set html_attributes=\"controls\" for video control"
   ]
  },
  {
   "cell_type": "markdown",
   "id": "7d432792",
   "metadata": {},
   "source": [
    "<a id='Q1'></a>\n",
    "<div class=\" alert alert-warning\">\n",
    "    <h3><b>Student Question 1.1</b> Relationship between actor-critic and REINFORCE with baseline (10 points) </h3> \n",
    "\n",
    "What is the relationship between actor-critic and REINFORCE with baseline?\n",
    "            \n",
    "🔝\t<a href='#TOC'><b>Table of Contents</b></a>\n",
    "</div>"
   ]
  },
  {
   "cell_type": "markdown",
   "id": "d837ef04",
   "metadata": {},
   "source": [
    "The relationship between the two is the estimation of return: actor-critic is nearly the same as REINFORCE with baseline, except that actor-critic uses the value function as the baseline. In REINFORCE, it uses Monte Carlo as the episodic return $Q(s_t, a_t)$ minus the baseline, while actor-critic uses the temporal difference (TD) error, which includes the immediate reward plus the estimated value of the next state minus the current state's value estimate. This difference is called the advantage function and we want to maximize it. "
   ]
  },
  {
   "cell_type": "markdown",
   "id": "8b88b08e",
   "metadata": {
    "tags": []
   },
   "source": [
    "<a id='Q2'></a>\n",
    "<div class=\" alert alert-warning\">\n",
    "    <h3><b>Student Question 1.2</b> Advantage (5 points) </h3> \n",
    "\n",
    "How can the value of advantage be intuitively interpreted?\n",
    "    \n",
    "🔝\t<a href='#TOC'><b>Table of Contents</b></a>\n",
    "</div>"
   ]
  },
  {
   "cell_type": "markdown",
   "id": "aa3bac64",
   "metadata": {},
   "source": [
    "The advantage is the average difference in return if we select any other different action compared to the action dictated by the current policy. If the advantage is positive, it means the chosen action will yield higher returns and if the advantage is negative, the action will yield lower returns. Therefore, we need to maximize the advantage function to make better returns. A notable point is that an advantage function does not introduce a bias into the policy gradient estimate.  "
   ]
  },
  {
   "cell_type": "markdown",
   "id": "a4db6c52",
   "metadata": {},
   "source": [
    "<a id='Q3'></a>\n",
    "<div class=\" alert alert-warning\">\n",
    "    <h3><b>Student Question 1.3</b> Bias and Variance Analysis (10 points) </h3> \n",
    "\n",
    "How does the implemented actor-critic method compare to REINFORCE in terms of bias and variance of the policy gradient estimation? Explain your answer.    \n",
    "🔝\t<a href='#TOC'><b>Table of Contents</b></a>\n",
    "</div>"
   ]
  },
  {
   "cell_type": "markdown",
   "id": "106d5916",
   "metadata": {},
   "source": [
    "__1. Bias comparison between two models__\n",
    "\n",
    "- Actor-critic model: they often use bootstrapping, where the value function by the critic is used to estimate the return. This will introduce an inherent bias at the beginning. As training progresses and the value function becomes more accurate, the bias tends to decrease and becomes less of an issue.\n",
    "\n",
    "- REINFORCE: it uses Monte Carlo estimation for the return without using any bootstrapping. This means that REINFORCE does not introduce bias like the actor-critic model.\n",
    "\n",
    "$\\implies$ Comparison: REINFORCE generally has lower bias compared to actor-critic methods in the early stages of training. But after training for a while, the difference in bias between the two becomes negligible.\n",
    "\n",
    "__2. Variance comparison between two models__\n",
    "\n",
    "- Actor-critic: by using the value function (critic) to estimate the return, actor-critic methods often reduce the variance of the policy gradient estimate. The critic provides a more stable estimate compared to the potentially noisy Monte Carlo samples. Additionally, actor-critic updates the policy at each time step, allowing for more frequent updates and potentially reducing variance. Therefore, actor-critic becomes sampling efficient. \n",
    "\n",
    "- REINFORCE: it relies on Monte Carlo methods, which can lead to high variance in the policy gradient estimation. The returns are computed based on the sampled trajectories, which can vary significantly. Because REINFORCE requires the completion of an entire episode, the expected returns can have higher variance, especially in stochastic environments.\n",
    "\n",
    "$\\implies$ Comparison: REINFORCE generally has higher variance compared to actor-critic methods due to using Monte Carlo method instead of temporal difference method."
   ]
  },
  {
   "cell_type": "markdown",
   "id": "c0ddf4e7",
   "metadata": {},
   "source": [
    "<a id='Q4'></a>\n",
    "<div class=\" alert alert-warning\">\n",
    "    <h3><b>Student Question 1.4</b> Controlling bias-variance tradeoff (10 points) </h3> \n",
    "\n",
    "How could the bias-variance tradeoff in actor-critic be controlled?\n",
    "    \n",
    "🔝\t<a href='#TOC'><b>Table of Contents</b></a>\n",
    "</div>"
   ]
  },
  {
   "cell_type": "markdown",
   "id": "03501249",
   "metadata": {},
   "source": [
    "We can control the bias-variance trade-off in actor-critic by using different advantage functions or bootstrapping methods. \n",
    "\n",
    "- The advantage function represents the relative value of taking a specific action compared to the average value of a specific state. The advantage function used in this exercise, for example, encourage lower variance but higher bias at the begin of training for the actor-critic model for using the baseline. Without the baseline, the variance can become higher. \n",
    "\n",
    "- Bootstrapping is using value function estimates to approximate future returns. Different bootstrapping methods can have effects on bias and variance. For Monte Carlo, there is no bootstrapping and thus, no bias is introduced and the variance becomes high as the model uses episodic returns. On the other hand, temporal difference bootstrapping will introduce bias by using immediate value function estimates, but it also significantly reduces variance by relying less on episodic returns. We can also use TD-Lambda for intermediate bootstrapping to achieve varying levels of bias and variance in actor-critic models."
   ]
  },
  {
   "cell_type": "markdown",
   "id": "edc1e91e-5715-45b9-a2c2-4e8f0fd2fff2",
   "metadata": {
    "tags": []
   },
   "source": [
    "# 3. Submitting <a id='3.'></a>\n",
    "Ensure all tasks and questions (in ```ex6_DDPG.ipynb``` and ```ex6_PG_AC.ipynb```) are answered and the necessary plots are saved in the appropriate locations. The relevant plots and files needed to be submitted for this assignment are:\n",
    "\n",
    "\n",
    "- Training performance plots:\n",
    "  - `pg_ac.png`: Training performance plots in terms of episode and episodic reward\n",
    "<br>\n",
    "\n",
    "  \n",
    "- Model files:\n",
    "  - `InvertedPendulum-v4_params.pt`: Trained model\n",
    "\n",
    "\n",
    "Ensure the model files and plots are saved in correct paths:\n",
    "- ```results/InvertedPendulum-v4/pg_ac.png``` Training result\n",
    "- ```results/InvertedPendulum-v4/model/InvertedPendulum-v4_params.pt``` Training Model\n",
    "\n",
    "\n",
    "<span style=\"color:red\"> **# IMPORTANT: DO NOT FORGET ANOTHER TASK IN ```ex6_DDPG.ipynb```** </span>"
   ]
  },
  {
   "cell_type": "markdown",
   "id": "88b0c6d7-563a-4037-9d4c-ef1422d7b657",
   "metadata": {
    "tags": []
   },
   "source": [
    "## 3.1 Feedback <a id='3.1'></a>\n",
    "\n",
    "In order to help the staff of the course as well as the forthcoming students, it would be great if you could answer to the following questions in your submission:"
   ]
  },
  {
   "cell_type": "markdown",
   "id": "de2e7c42-211b-419b-a3c9-daeab45597f1",
   "metadata": {},
   "source": [
    "1) How much time did you spend solving this exercise? (change the ```hrs``` variable below to a floating point number representing the number of hours taken e.g. 5.43)"
   ]
  },
  {
   "cell_type": "code",
   "execution_count": null,
   "id": "3cfa3e0a-f247-43f4-92cc-5b6e99c79049",
   "metadata": {
    "tags": []
   },
   "outputs": [],
   "source": [
    "hrs = 8"
   ]
  },
  {
   "cell_type": "markdown",
   "id": "83e49e4f-0803-4d11-9ac4-9f77bedfa52f",
   "metadata": {},
   "source": [
    "2) Difficulty of each task/question from 1-5 (int or float)"
   ]
  },
  {
   "cell_type": "code",
   "execution_count": null,
   "id": "f8fc5ed4-1957-4c5c-97fb-de2dc7c4362e",
   "metadata": {
    "tags": []
   },
   "outputs": [],
   "source": [
    "T1 = 5   # Implementing DDPG (20 points)\n",
    "Q1 = 5   # Question 1.1 Relationship between actor-critic and REINFORCE with baseline (10 points)\n",
    "Q2 = 5   # Question 1.2 Advantage (5 points)\n",
    "Q3 = 5   # Question 1.3 Bias and Variance Analysis (10 points)\n",
    "Q4 = 5   # Question 1.4 Controlling bias-variance tradeoff (10 points)"
   ]
  },
  {
   "cell_type": "markdown",
   "id": "a8f6cdd1-ea58-4a06-a81b-1d7cc36f14a2",
   "metadata": {},
   "source": [
    "3) How well did you understand the content of the task/question from 1-5? (int or float)"
   ]
  },
  {
   "cell_type": "code",
   "execution_count": null,
   "id": "27706e2f-2a35-4a6e-ad07-9af944b96dfe",
   "metadata": {
    "tags": []
   },
   "outputs": [],
   "source": [
    "T1 = 5   # Implementing DDPG (20 points)\n",
    "Q1 = 5   # Question 1.1 Relationship between actor-critic and REINFORCE with baseline (10 points)\n",
    "Q2 = 5   # Question 1.2 Advantage (5 points)\n",
    "Q3 = 5   # Question 1.3 Bias and Variance Analysis (10 points)\n",
    "Q4 = 5   # Question 1.4 Controlling bias-variance tradeoff (10 points)"
   ]
  },
  {
   "cell_type": "markdown",
   "id": "bc810cc9-ba38-480d-a95e-178f875bc744",
   "metadata": {},
   "source": [
    "4) General feedback. Consider questions like:\n",
    "\n",
    "    - Did the content of the lecture relate well with the assignment?\n",
    "    - To what extent did you find the material to be potentially useful for your research and studies?\n",
    "    \n",
    "Please share any additional feedback, suggestions, or comments you have about the lecture, assignment, or course content. Your input is valuable in helping us improve the learning experience."
   ]
  },
  {
   "cell_type": "markdown",
   "id": "ce6d30ad-8d44-4fe5-a642-121200f920d1",
   "metadata": {
    "tags": []
   },
   "source": [
    "DOUBLE CLICK HERE TO EDIT, CLEAR THIS TEXT AND ANSWER HERE"
   ]
  },
  {
   "cell_type": "markdown",
   "id": "785254f3-48b6-44a6-ace6-0eae136d6396",
   "metadata": {},
   "source": [
    "# References <a id='4.'></a>\n",
    "Please use the following section to record references."
   ]
  }
 ],
 "metadata": {
  "kernelspec": {
   "display_name": "Python 3",
   "language": "python",
   "name": "python3"
  },
  "language_info": {
   "codemirror_mode": {
    "name": "ipython",
    "version": 3
   },
   "file_extension": ".py",
   "mimetype": "text/x-python",
   "name": "python",
   "nbconvert_exporter": "python",
   "pygments_lexer": "ipython3",
   "version": "3.10.8"
  }
 },
 "nbformat": 4,
 "nbformat_minor": 5
}
