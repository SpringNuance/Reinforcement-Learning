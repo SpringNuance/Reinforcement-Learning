{
 "cells": [
  {
   "cell_type": "code",
   "execution_count": null,
   "metadata": {},
   "outputs": [],
   "source": [
    "import sys, os\n",
    "sys.path.insert(0, os.path.abspath(\"..\"))\n",
    "import numpy as np\n",
    "from itertools import product\n",
    "\n",
    "from sailing import SailingGridworld\n",
    "from common import helper as h"
   ]
  },
  {
   "cell_type": "code",
   "execution_count": null,
   "metadata": {},
   "outputs": [],
   "source": [
    "gamma = 0.9\n",
    "eps = 1e-4 # TODO: use this value for Task 2 and Task 3\n",
    "value_update_iter = 100 # TODO: change this in Task 2\n",
    "rock_penalty = -2 # TODO: change this in Q1.3"
   ]
  },
  {
   "cell_type": "code",
   "execution_count": null,
   "metadata": {
    "scrolled": true
   },
   "outputs": [],
   "source": [
    "# Set up the environment\n",
    "env = SailingGridworld(rock_penalty=rock_penalty, value_update_iter=value_update_iter)"
   ]
  },
  {
   "cell_type": "code",
   "execution_count": null,
   "metadata": {},
   "outputs": [],
   "source": [
    "\n",
    "def get_values_policy(iterations):\n",
    "    v_est = np.zeros((env.w, env.h))\n",
    "    policy = np.zeros((env.w, env.h))\n",
    "    env.draw_values_policy(v_est, policy)\n",
    "\n",
    "    for i in range(iterations):\n",
    "        # TODO: Task 1, implement the value iteration and policy\n",
    "        # TODO: Task 2, convergency of the value function and policy\n",
    "\n",
    "        ########## Your code starts here ##########\n",
    "        \n",
    "        # Estimate new state values and calculate policy\n",
    "        \n",
    "        # Call env.draw_values_policy function after each iteration with your estimated state values and policy\n",
    "        # to produce a GIF of the changing values (will be automatically created and saved)\n",
    "        \n",
    "        ########## Your code ends here ##########\n",
    "\n",
    "    return v_est, policy\n"
   ]
  },
  {
   "cell_type": "code",
   "execution_count": null,
   "metadata": {},
   "outputs": [],
   "source": [
    "# value iteration -- update value estimation and policy\n",
    "value_est, policy = get_values_policy(iterations=value_update_iter)"
   ]
  },
  {
   "cell_type": "code",
   "execution_count": null,
   "metadata": {},
   "outputs": [],
   "source": [
    "# Eval policy\n",
    "N = 1 # TODO: change for task 4\n",
    "for ep in range(N):\n",
    "    state = env.reset()\n",
    "    done = False\n",
    "    while not done:\n",
    "\n",
    "        ########## You code starts here ##########\n",
    "\n",
    "        # TODO: Use the policy to take the optimal action (Task 1)\n",
    "        action = int(np.random.random() * 4)\n",
    "\n",
    "        # Take a step in the environment\n",
    "        state, reward, done, _ = env.step(action)\n",
    "        \n",
    "        # TODO: Calculate discounted return for the initial state\n",
    "        \n",
    "        ########## You code ends here ##########\n",
    "        \n",
    "        # Comment out the line below to disable rendering and make computations faster\n",
    "        env.render()\n"
   ]
  },
  {
   "cell_type": "code",
   "execution_count": null,
   "metadata": {},
   "outputs": [],
   "source": [
    "# save value and policy\n",
    "h.save_object({'value': value_est, 'policy': policy}, './value_policy.pkl')"
   ]
  }
 ],
 "metadata": {
  "interpreter": {
   "hash": "fd83ff56f6777e6e758811c394427f18acade90acb82137bfcd1e92d18c6a724"
  },
  "kernelspec": {
   "display_name": "Python 3 (ipykernel)",
   "language": "python",
   "name": "python3"
  },
  "language_info": {
   "codemirror_mode": {
    "name": "ipython",
    "version": 3
   },
   "file_extension": ".py",
   "mimetype": "text/x-python",
   "name": "python",
   "nbconvert_exporter": "python",
   "pygments_lexer": "ipython3",
   "version": "3.8.13"
  }
 },
 "nbformat": 4,
 "nbformat_minor": 2
}
