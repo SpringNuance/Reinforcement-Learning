{
 "cells": [
  {
   "cell_type": "markdown",
   "source": [
    "# Neural networks and gradient calculations with Pytorch"
   ],
   "metadata": {}
  },
  {
   "cell_type": "markdown",
   "source": [
    "# Introduction\n",
    "\n",
    "The latest Reinforcement Learning assignment involves some basic neural networks and gradient computations. Pytorch, an open-source machine learning framework, offers a bunch of features to construct, train and deploy neural networks as well as calculate derivatives, etc. This tutorial aims to offer you some basic background of neural networks and gradient calculations to help to start your assignment. This tutorial includes two parts. In the first part, we cover the basic linear regression model and neural network and you can skip this part if you have prior knowledge. In the second part, we talk about how to stop gradient. This operator is used when implementing the DQN algorithm. So please make sure you understand this operator before Exercise 4.\n",
    "\n",
    "If you are interested in diving into the Pytorch and deep learning, please check these excellent materials. \n",
    "\n",
    "1. Pytorch Tutorial: https://pytorch.org/tutorials/\n",
    "\n",
    "2. Dive into Deep Learing: https://d2l.ai/\n",
    "\n",
    "3. Deep Learning course: CS-E4890, Aalto; CS231N, Stanford http://cs231n.stanford.edu/"
   ],
   "metadata": {}
  },
  {
   "cell_type": "code",
   "execution_count": 1,
   "source": [
    "import random\n",
    "\n",
    "import torch\n",
    "import torch.nn as nn\n",
    "import torch.nn.functional as F\n",
    "import numpy as np\n",
    "import matplotlib.pyplot as plt"
   ],
   "outputs": [],
   "metadata": {}
  },
  {
   "cell_type": "markdown",
   "source": [
    "# Part I\n",
    "## 1. Let's start with linear regression\n",
    "Suppose we have a bunch of data points generated from a linear model $y_i = wx_i + b$ with additive noise. Our task is to decide the linear model's weight $w$ and bias $b$ using these data on hand."
   ],
   "metadata": {}
  },
  {
   "cell_type": "code",
   "execution_count": 2,
   "source": [
    "# generate synthetic data\n",
    "def synthetic_data(w, b, num_examples):  #@save\n",
    "    \"\"\"Generate y = Xw + b + noise.\"\"\"\n",
    "    X = torch.normal(0, 1, (num_examples, len(w)))\n",
    "    y = torch.matmul(X, w) + b\n",
    "    y += torch.normal(0, 0.5, y.shape)  # additive noise\n",
    "    return X, y.reshape((-1, 1))\n",
    "\n",
    "true_w = torch.tensor([-3.4])\n",
    "true_b = torch.tensor([4.2])\n",
    "\n",
    "# generate data\n",
    "features, labels = synthetic_data(true_w, true_b, 1000) # generate 1000 data points"
   ],
   "outputs": [],
   "metadata": {}
  },
  {
   "cell_type": "code",
   "execution_count": 3,
   "source": [
    "# plot data\n",
    "plt.scatter(features, labels)"
   ],
   "outputs": [
    {
     "output_type": "execute_result",
     "data": {
      "text/plain": [
       "<matplotlib.collections.PathCollection at 0x7fb57f245d00>"
      ]
     },
     "metadata": {},
     "execution_count": 3
    },
    {
     "output_type": "display_data",
     "data": {
      "image/png": "[encoded data removed]",
      "text/plain": [
       "<Figure size 432x288 with 1 Axes>"
      ]
     },
     "metadata": {
      "needs_background": "light"
     }
    }
   ],
   "metadata": {}
  },
  {
   "cell_type": "code",
   "execution_count": 4,
   "source": [
    "# process the training data\n",
    "def data_iter(batch_size, features, labels):\n",
    "    num_examples = len(features)\n",
    "    indices = list(range(num_examples))\n",
    "    # The examples are read at random, in no particular order\n",
    "    random.shuffle(indices)\n",
    "    for i in range(0, num_examples, batch_size):\n",
    "        batch_indices = torch.tensor(indices[i:min(i +\n",
    "                                                   batch_size, num_examples)])\n",
    "        yield features[batch_indices], labels[batch_indices]"
   ],
   "outputs": [],
   "metadata": {}
  },
  {
   "cell_type": "markdown",
   "source": [
    "### Initialize model parameters and define the model\n",
    "To learn a model from data points, let's first define the model form as $y = wx + b$ and initialize our model."
   ],
   "metadata": {}
  },
  {
   "cell_type": "code",
   "execution_count": 5,
   "source": [
    "w = torch.normal(mean=torch.tensor([0.0]), std=torch.tensor([0.1]))\n",
    "b = torch.zeros(1)\n",
    "print(f'The initial weight is: {w}, the intial bias is {b}')"
   ],
   "outputs": [
    {
     "output_type": "stream",
     "name": "stdout",
     "text": [
      "The initial weight is: tensor([-0.0432]), the intial bias is tensor([0.])\n"
     ]
    }
   ],
   "metadata": {}
  },
  {
   "cell_type": "markdown",
   "source": [
    "However, this is not enough! If we want to calculate the gradient w.r.t $w$ and $b$, we have to define it explicitly by setting `requires_grad=True`. This is important, otherwise, we can't optimize these parameters by the optimizer. In practice, you should always take care of which parameter should be set `requires_grad` as `True` and when to set them. Also, in some cases, we need to set `requires_grad` as `False`, and we will discuss it in Part 2."
   ],
   "metadata": {}
  },
  {
   "cell_type": "code",
   "execution_count": 6,
   "source": [
    "w.requires_grad = True\n",
    "b.requires_grad = True\n",
    "print(f'After set requires_grad=Ture, the w is: {w}, and b is {b}')"
   ],
   "outputs": [
    {
     "output_type": "stream",
     "name": "stdout",
     "text": [
      "After set requires_grad=Ture, the w is: tensor([-0.0432], requires_grad=True), and b is tensor([0.], requires_grad=True)\n"
     ]
    }
   ],
   "metadata": {}
  },
  {
   "cell_type": "code",
   "execution_count": 7,
   "source": [
    "def model(x, w, b):\n",
    "    \"\"\" Define the linear regression model.\"\"\"\n",
    "    return w * x + b"
   ],
   "outputs": [],
   "metadata": {}
  },
  {
   "cell_type": "markdown",
   "source": [
    "### Define the loss function and define the optimization algorithm\n",
    "The optimization objective we used here is the **mean square error**: $L = \\frac{1}{N} \\sum_{i=1}^N \\frac{1}{2}(y_i - \\hat{y_i})^2$"
   ],
   "metadata": {}
  },
  {
   "cell_type": "code",
   "execution_count": 8,
   "source": [
    "def loss_fn(y_hat, y):\n",
    "    return (y - y_hat)**2 * 0.5"
   ],
   "outputs": [],
   "metadata": {}
  },
  {
   "cell_type": "markdown",
   "source": [
    "Once we define the model and the loss function, there are many methods to define the parameters $w$ and $b$ to minimize the loss function. For example, we can calculate the optimal parameters analytically, or we perform the optimization with gradient descent. This tutorial will use the second one.\n",
    "\n",
    "In order to use the gradient descent method, we need to first calculate the gradient as:\n",
    "\n",
    "$$\\frac{dL}{dw} = \\frac{1}{N}\\sum_{i=1}^N -x_i(y_i - w x_i - b) = \\frac{1}{N}\\sum_{i=1}^N(w x_i^2 + b x_i - x_i y_i)$$\n",
    "\n",
    "$$\\frac{dL}{db} = \\frac{1}{N} \\sum_{i=1}^N -(y_i - w x_i - b) = \\frac{1}{N} \\sum_{i=1}^N (w x_i + b - y_i)$$\n",
    "\n",
    "With the gradient w.r.t $w$ and $b$, we finally perform the gradient descent step:\n",
    "\n",
    "$$ w \\leftarrow w - \\alpha \\frac{dL}{dw}$$\n",
    "\n",
    "$$ b \\leftarrow b - \\alpha \\frac{dL}{db}$$\n",
    "\n",
    "Notice that the gradient is estimated using the whole training set. This is fine when the training set is small, but when the training set is large, e.g., ImageNet, calculating over the whole training set to perform one gradient step is expensive. Thus, the simple yet efficient solution is estimating the gradient with a mini batch of training data, we call this method as stochastic gradient descent (SGD)."
   ],
   "metadata": {}
  },
  {
   "cell_type": "code",
   "execution_count": 9,
   "source": [
    "def sgd(params, lr, batch_size):\n",
    "    with torch.no_grad(): # freeze params for saving resources\n",
    "        for param in params:\n",
    "            param -= lr * param.grad / batch_size\n",
    "            param.grad.zero_()  # reset the gradient as 0 !!"
   ],
   "outputs": [],
   "metadata": {}
  },
  {
   "cell_type": "markdown",
   "source": [
    "### Training\n",
    "Now, we can finally perform the training process. But there is still something we should take care of, that is the hyperparameters. Specifically, in our toy linear regression example, we should define the learning rate $\\alpha$ and *batch size*. Hyperparameters are important for machine learning since they hugely influence the training results. So you should always tune them carefully."
   ],
   "metadata": {}
  },
  {
   "cell_type": "code",
   "execution_count": 10,
   "source": [
    "# hyperparameters\n",
    "learning_rate = 0.01\n",
    "batch_size = 10\n",
    "num_epoch = 10"
   ],
   "outputs": [],
   "metadata": {}
  },
  {
   "cell_type": "code",
   "execution_count": 11,
   "source": [
    "# training\n",
    "for epoch in range(num_epoch):\n",
    "    for x, y in data_iter(batch_size, features, labels):\n",
    "        y_hat = model(x, w, b)\n",
    "        loss = loss_fn(y_hat, y).sum()\n",
    "        # compute gradient on loss w.r.t w and b\n",
    "        loss.backward()\n",
    "        sgd([w, b], learning_rate, batch_size)\n",
    "    \n",
    "    # print\n",
    "    with torch.no_grad():\n",
    "        train_loss = loss_fn(model(features, w, b), labels)\n",
    "        print(f'epoch {epoch+1}, loss {float(train_loss.mean())}')"
   ],
   "outputs": [
    {
     "output_type": "stream",
     "name": "stdout",
     "text": [
      "epoch 1, loss 2.0713047981262207\n",
      "epoch 2, loss 0.3864479064941406\n",
      "epoch 3, loss 0.15654605627059937\n",
      "epoch 4, loss 0.12499469518661499\n",
      "epoch 5, loss 0.12078550457954407\n",
      "epoch 6, loss 0.12004215270280838\n",
      "epoch 7, loss 0.11994075030088425\n",
      "epoch 8, loss 0.11994903534650803\n",
      "epoch 9, loss 0.11994881927967072\n",
      "epoch 10, loss 0.11993353068828583\n"
     ]
    }
   ],
   "metadata": {}
  },
  {
   "cell_type": "markdown",
   "source": [
    "Notice that instead of calcuating the gradient w.r.t $w$ and $b$, we directly call the function `.backward()` on loss. The function is to calculate the gradient w.r.t parameters with `requires_grad=True`. The resulting gradient for each parameter is stored in `param.grad`, see our `sgd()` function. For more detail, please check the document https://pytorch.org/tutorials/beginner/basics/autogradqs_tutorial.html"
   ],
   "metadata": {}
  },
  {
   "cell_type": "code",
   "execution_count": 12,
   "source": [
    "# compare w and b with the ground truth\n",
    "print(f'The estimated w is {w.item()}, the true w is {true_w.item()};') \n",
    "print(f'The estimated b is {b.item()}, the true b is {true_b.item()}')\n",
    "\n",
    "# plot it\n",
    "plt.scatter(features, labels)\n",
    "x = range(-4, 5)\n",
    "y = [model(i,w,b).detach().numpy() for i in x]\n",
    "plt.plot(x, y, 'r')"
   ],
   "outputs": [
    {
     "output_type": "stream",
     "name": "stdout",
     "text": [
      "The estimated w is -3.4095938205718994, the true w is -3.4000000953674316;\n",
      "The estimated b is 4.212475299835205, the true b is 4.199999809265137\n"
     ]
    },
    {
     "output_type": "execute_result",
     "data": {
      "text/plain": [
       "[<matplotlib.lines.Line2D at 0x7fb57f0bf730>]"
      ]
     },
     "metadata": {},
     "execution_count": 12
    },
    {
     "output_type": "display_data",
     "data": {
      "image/png": "[encoded data removed]",
      "text/plain": [
       "<Figure size 432x288 with 1 Axes>"
      ]
     },
     "metadata": {
      "needs_background": "light"
     }
    }
   ],
   "metadata": {}
  },
  {
   "cell_type": "markdown",
   "source": [
    "### Change different optimizers\n",
    "In the above example, we define the `sgd()` optimizer by ourselves. However, Pytorch already offers a lot of different optimizers, see https://pytorch.org/docs/stable/optim.html#how-to-use-an-optimizer. Here, we will show how to use the `Adam` optimizer offered by Pytorch. We will show it by keeping the model the same, but change the training loop."
   ],
   "metadata": {}
  },
  {
   "cell_type": "code",
   "execution_count": 13,
   "source": [
    "# let's first define the adam optimizer\n",
    "optimizer = torch.optim.Adam([w, b], lr=learning_rate)"
   ],
   "outputs": [],
   "metadata": {}
  },
  {
   "cell_type": "markdown",
   "source": [
    "Again, let's first initialize the parameters. Since we already define the $w$ and $b$, we can easily modify their data by changing `w.data` and `b.data`. Notice that "
   ],
   "metadata": {}
  },
  {
   "cell_type": "code",
   "execution_count": 14,
   "source": [
    "# Because we want to show \n",
    "w.data = torch.normal(mean=torch.tensor([0.]), std=torch.tensor([0.1]))\n",
    "b.data = torch.zeros(1)"
   ],
   "outputs": [],
   "metadata": {}
  },
  {
   "cell_type": "code",
   "execution_count": 15,
   "source": [
    "# training loop\n",
    "for epoch in range(num_epoch):\n",
    "    for x, y in data_iter(batch_size, features, labels):\n",
    "        optimizer.zero_grad() # ! Remember to call zero_grad()\n",
    "        y_hat = model(x, w, b)\n",
    "        loss = loss_fn(y_hat, y).sum()\n",
    "        \n",
    "        # calculat gradient on loss w.r.t w and b\n",
    "        loss.backward()\n",
    "        # preform the gradient descent step to update parameters\n",
    "        optimizer.step()\n",
    "    \n",
    "    # print\n",
    "    with torch.no_grad():\n",
    "        train_loss = loss_fn(model(features, w, b), labels)\n",
    "        print(f'epoch {epoch+1}, loss {float(train_loss.mean())}')"
   ],
   "outputs": [
    {
     "output_type": "stream",
     "name": "stdout",
     "text": [
      "epoch 1, loss 9.069252967834473\n",
      "epoch 2, loss 5.062711715698242\n",
      "epoch 3, loss 2.670809507369995\n",
      "epoch 4, loss 1.3396475315093994\n",
      "epoch 5, loss 0.6380116939544678\n",
      "epoch 6, loss 0.32141920924186707\n",
      "epoch 7, loss 0.1893029361963272\n",
      "epoch 8, loss 0.14160916209220886\n",
      "epoch 9, loss 0.12600655853748322\n",
      "epoch 10, loss 0.12143859267234802\n"
     ]
    }
   ],
   "metadata": {}
  },
  {
   "cell_type": "markdown",
   "source": [
    "Here, we want to stress the `optimizer.zero_grad()` function. The `backward()` function, by default, accumulates gradients in the `.grad` buffer. This means that every call to `backward` **adds the gradient** to what is currently stored in the buffer, instead of overwriting it. This is useful when dealing with large models and dataset/batch sizes, where the whole data doesn't fit into memory and the gradients have to be calculated for a larger number of samples and averaged. In our case, we want to calcualte the current gradient value at each iteration, so we have to manually zero out the gradients by calling `optimizer.zero_grad()`.\n"
   ],
   "metadata": {}
  },
  {
   "cell_type": "code",
   "execution_count": 16,
   "source": [
    "# compare w and b with the ground truth\n",
    "print(f'The estimated w is {w.item()}, the true w is {true_w.item()};') \n",
    "print(f'The esimated b is {b.item()}, the true b is {true_b.item()}')"
   ],
   "outputs": [
    {
     "output_type": "stream",
     "name": "stdout",
     "text": [
      "The estimated w is -3.384695053100586, the true w is -3.4000000953674316;\n",
      "The esimated b is 4.161173343658447, the true b is 4.199999809265137\n"
     ]
    }
   ],
   "metadata": {}
  },
  {
   "cell_type": "markdown",
   "source": [
    "## 2. Basic Neural Network\n",
    "In our assignments, we will use very basic neural networks, especially multilayer perceptrons (MLPs). \"For certain choices of the activation function, it is widely known that MLPs are **universal approximators**. Even with a single-hidden-layer network, given enough nodes (possibly absurdly many), and the right set of weights, **we can model any function**, though actually learning that function is the hard part.\" MLPs are vastly adopted in reinforcement learning to represent the policy, the value function or the dynamic model. In this tutorial, we will quickly go through how to define MLPs and how to train it. For more detail, please check http://www.d2l.ai/chapter_multilayer-perceptrons/mlp.html"
   ],
   "metadata": {}
  },
  {
   "cell_type": "markdown",
   "source": [
    "### Define the network"
   ],
   "metadata": {}
  },
  {
   "cell_type": "code",
   "execution_count": 17,
   "source": [
    "class Net(nn.Module):\n",
    "    def __init__(self, input_dim, output_dim, hidden_dim):\n",
    "        super(Net, self).__init__()\n",
    "        self.layer1 = nn.Linear(input_dim, hidden_dim)\n",
    "        self.layer2 = nn.Linear(hidden_dim, hidden_dim)\n",
    "        self.output_layer = nn.Linear(hidden_dim, output_dim)\n",
    "\n",
    "    def forward(self, x):\n",
    "        x = self.layer1(x)\n",
    "        x = F.relu(x)\n",
    "        x = self.layer2(x)\n",
    "        x = F.relu(x)\n",
    "        x = self.output_layer(x)\n",
    "        return x\n",
    "\n",
    "net = Net(1, 1, 10)\n",
    "print(net)"
   ],
   "outputs": [
    {
     "output_type": "stream",
     "name": "stdout",
     "text": [
      "Net(\n",
      "  (layer1): Linear(in_features=1, out_features=10, bias=True)\n",
      "  (layer2): Linear(in_features=10, out_features=10, bias=True)\n",
      "  (output_layer): Linear(in_features=10, out_features=1, bias=True)\n",
      ")\n"
     ]
    }
   ],
   "metadata": {}
  },
  {
   "cell_type": "markdown",
   "source": [
    "The above `Net` class defines a simple two-layer neural network. In `__init__` function, you can initialize the network, and the operations on inputs are implemented in the `forward` function. As a subclass of `nn.Module`, the backpropagation is automatically built after implementing the `forward` function. \n",
    "\n",
    "`nn.Linear()` is used to define the linear layer $y = w x + b$, and `F.relu()` is the activition function, defined as $relu(x) = max(x, 0)$."
   ],
   "metadata": {}
  },
  {
   "cell_type": "markdown",
   "source": [
    "### Train the network\n",
    "To be concise, we will use the defined MLPs to approximate a linear model similar to our linear regression example. Please remember that the MLPs is a powerful function approximator, so they can represent much more complex models. We will use the neural network to solve a more complex task later.\n",
    "\n",
    "In this toy example, we will use the same loss function, the same dataset as above, the only difference is instead of using the linear model, we use two-layer MLPs here."
   ],
   "metadata": {}
  },
  {
   "cell_type": "markdown",
   "source": [
    "The parameters of the MLPs are automatically initialized when defining them. The default initialized values depend on the type of layers. Specifically, for linear layers, the initialized value is given by $U(-\\sqrt{k}, \\sqrt{k})$, where $k = \\frac{1}{in\\_features}$ (see https://github.com/pytorch/pytorch/blob/master/torch/nn/modules/linear.py#L435-L68). \n",
    "\n",
    "The initialized values are:"
   ],
   "metadata": {}
  },
  {
   "cell_type": "code",
   "execution_count": 18,
   "source": [
    "for w in net.parameters():\n",
    "    print(w)"
   ],
   "outputs": [
    {
     "output_type": "stream",
     "name": "stdout",
     "text": [
      "Parameter containing:\n",
      "tensor([[-0.1063],\n",
      "        [-0.4625],\n",
      "        [-0.5468],\n",
      "        [ 0.1303],\n",
      "        [ 0.8797],\n",
      "        [-0.5968],\n",
      "        [ 0.1255],\n",
      "        [-0.7445],\n",
      "        [-0.9135],\n",
      "        [-0.0865]], requires_grad=True)\n",
      "Parameter containing:\n",
      "tensor([ 0.6870,  0.6928, -0.6203, -0.5075,  0.0336,  0.0019,  0.5913, -0.6671,\n",
      "         0.1970,  0.1624], requires_grad=True)\n",
      "Parameter containing:\n",
      "tensor([[-0.0963,  0.3123,  0.1501, -0.1534,  0.3066, -0.2851,  0.1462,  0.1528,\n",
      "         -0.0935,  0.1652],\n",
      "        [-0.3105, -0.2966,  0.1985,  0.0468, -0.1024, -0.1075, -0.1202,  0.2795,\n",
      "          0.2169, -0.2171],\n",
      "        [-0.0121, -0.1958, -0.1180,  0.2977, -0.0958,  0.3156, -0.0798,  0.0919,\n",
      "         -0.0384, -0.2942],\n",
      "        [ 0.0118, -0.0936, -0.0148, -0.1755,  0.1892,  0.2182, -0.2960,  0.2528,\n",
      "          0.1387, -0.0884],\n",
      "        [-0.2091,  0.1648,  0.2598, -0.0867,  0.0978,  0.0121,  0.0657, -0.0814,\n",
      "         -0.2462,  0.0156],\n",
      "        [ 0.1214, -0.1721,  0.2962, -0.2099, -0.0256, -0.0120, -0.0604, -0.1480,\n",
      "          0.0247,  0.0110],\n",
      "        [ 0.0870,  0.1939, -0.0793, -0.0017, -0.2207, -0.0785, -0.0534,  0.1873,\n",
      "          0.1641, -0.1795],\n",
      "        [ 0.1016, -0.2960, -0.1523,  0.1536,  0.2137,  0.2172, -0.2464,  0.1437,\n",
      "         -0.3109,  0.2700],\n",
      "        [ 0.2133, -0.2963,  0.1176, -0.2578,  0.2897,  0.0235, -0.3033,  0.1579,\n",
      "         -0.1550, -0.1988],\n",
      "        [ 0.2454, -0.0261, -0.0632,  0.1918, -0.0111,  0.0924, -0.2880, -0.0513,\n",
      "         -0.0835,  0.2051]], requires_grad=True)\n",
      "Parameter containing:\n",
      "tensor([-0.0711,  0.1636, -0.0502, -0.0231,  0.1933,  0.1284,  0.0158, -0.2339,\n",
      "         0.2303, -0.1696], requires_grad=True)\n",
      "Parameter containing:\n",
      "tensor([[-0.0017, -0.1119,  0.1393,  0.0677, -0.2677,  0.1061, -0.0124,  0.0365,\n",
      "          0.2570,  0.1801]], requires_grad=True)\n",
      "Parameter containing:\n",
      "tensor([-0.1774], requires_grad=True)\n"
     ]
    }
   ],
   "metadata": {}
  },
  {
   "cell_type": "markdown",
   "source": [
    "Now, let's train our network similar to the above example."
   ],
   "metadata": {}
  },
  {
   "cell_type": "code",
   "execution_count": 19,
   "source": [
    "# Define the optimizer, \n",
    "num_epoch=15\n",
    "optimizer = torch.optim.Adam(net.parameters(), lr=0.01)\n",
    "# training loop\n",
    "for epoch in range(num_epoch):\n",
    "    for x, y in data_iter(batch_size, features, labels):\n",
    "        optimizer.zero_grad() # ! Remember to call zero_grad()\n",
    "        y_hat = net(x)\n",
    "        loss = loss_fn(y_hat, y).sum()\n",
    "        \n",
    "        # calculat gradient on loss w.r.t w and b\n",
    "        loss.backward()\n",
    "        # preform the gradient descent step to update parameters\n",
    "        optimizer.step()\n",
    "    \n",
    "    # print\n",
    "    with torch.no_grad():\n",
    "        net.eval()\n",
    "        train_loss = loss_fn(net(features), labels)\n",
    "        print(f'epoch {epoch+1}, loss {float(train_loss.mean())}')\n",
    "        net.train()"
   ],
   "outputs": [
    {
     "output_type": "stream",
     "name": "stdout",
     "text": [
      "epoch 1, loss 0.21708008646965027\n",
      "epoch 2, loss 0.1381392478942871\n",
      "epoch 3, loss 0.12913581728935242\n",
      "epoch 4, loss 0.127198725938797\n",
      "epoch 5, loss 0.1336274892091751\n",
      "epoch 6, loss 0.12410368770360947\n",
      "epoch 7, loss 0.13476374745368958\n",
      "epoch 8, loss 0.12787781655788422\n",
      "epoch 9, loss 0.1228647381067276\n",
      "epoch 10, loss 0.13053394854068756\n",
      "epoch 11, loss 0.14114776253700256\n",
      "epoch 12, loss 0.2078314572572708\n",
      "epoch 13, loss 0.15255621075630188\n",
      "epoch 14, loss 0.124310702085495\n",
      "epoch 15, loss 0.12995916604995728\n"
     ]
    }
   ],
   "metadata": {
    "tags": []
   }
  },
  {
   "cell_type": "code",
   "execution_count": 20,
   "source": [
    "# plot it\n",
    "plt.scatter(features, labels)\n",
    "x = torch.tensor(range(-4, 5), dtype=torch.float32).unsqueeze(-1)\n",
    "y = [net(i).detach().numpy() for i in x]\n",
    "plt.plot(x, y, 'r')"
   ],
   "outputs": [
    {
     "output_type": "execute_result",
     "data": {
      "text/plain": [
       "[<matplotlib.lines.Line2D at 0x7fb570135940>]"
      ]
     },
     "metadata": {},
     "execution_count": 20
    },
    {
     "output_type": "display_data",
     "data": {
      "image/png": "[encoded data removed]",
      "text/plain": [
       "<Figure size 432x288 with 1 Axes>"
      ]
     },
     "metadata": {
      "needs_background": "light"
     }
    }
   ],
   "metadata": {}
  },
  {
   "cell_type": "markdown",
   "source": [
    "# Part II\n",
    "In this part, we will introduce an operator that you will see in your assignment -- the `detach()` operator. Please pay more attention to this operator since many silence bugs are caused by it. **The `detach()` operator will return a new Tensor, detached from the current computational graph, and the returned Tensor will never require gradient.** \n"
   ],
   "metadata": {}
  },
  {
   "cell_type": "markdown",
   "source": [
    "## 3. The `detach()` operator\n",
    "It might be more straightforward to understand the `detach()` operator by showing how it influences the `w` parameter."
   ],
   "metadata": {}
  },
  {
   "cell_type": "code",
   "execution_count": 21,
   "source": [
    "print(f'Before calling detach(), w is {w}')\n",
    "print(f'After calling detach(), w is {w.detach()}')"
   ],
   "outputs": [
    {
     "output_type": "stream",
     "name": "stdout",
     "text": [
      "Before calling detach(), w is Parameter containing:\n",
      "tensor([0.1407], requires_grad=True)\n",
      "After calling detach(), w is tensor([0.1407])\n"
     ]
    }
   ],
   "metadata": {}
  },
  {
   "cell_type": "markdown",
   "source": [
    "Obviously, by calling the `detach()` on the parameter `w`, the returned new Tensor doesn't require grad anymore, such its value won't be updated by the optimizer.\n",
    "\n",
    "Notice that the `w.detach()` returns a new Tensor, but the original `w` is not modified, which means the `w` still requires grad. "
   ],
   "metadata": {}
  },
  {
   "cell_type": "code",
   "execution_count": 22,
   "source": [
    "w"
   ],
   "outputs": [
    {
     "output_type": "execute_result",
     "data": {
      "text/plain": [
       "Parameter containing:\n",
       "tensor([0.1407], requires_grad=True)"
      ]
     },
     "metadata": {},
     "execution_count": 22
    }
   ],
   "metadata": {}
  },
  {
   "cell_type": "markdown",
   "source": [
    "Looks simple right? Now we will show how this simple operator is used in practice by two concrete examples."
   ],
   "metadata": {}
  },
  {
   "cell_type": "markdown",
   "source": [
    "## 4. Example 1: Scaling gradients\n",
    "Imagine a scenario where we have a parametrized function (for example, a neural network) $f_{\\theta_1}(x)$ and we are interested in **scaling** the calculated gradients by the values of some other function $g_{\\theta_2}(x)$, which **shares the first layer with network $\\theta_1$**.\n",
    "\n",
    "Without using the `detach()` operator, the parameter will be updated as: $$ \\theta_1 \\leftarrow \\theta_1 + \\alpha \\nabla_{\\theta} \\sum_i^N g_{\\theta_2}(x_i) f_{\\theta_1}(x_i) $$\n",
    "\n",
    "However, notice that this gradient is actually not what we want. We only what to **scale** the gradient $\\nabla_{\\theta} f_{\\theta_1}(x_i) $ by the function $g_{\\theta_2}(x_i)$, but here, the gradient flow will pass through the $g_{\\theta_2}(x_i)$ since it shares the first layer with $f_{\\theta_1}$. \n",
    "\n",
    "This problem can be easily fixed by using the `detach()` operator on $g_{\\theta_2}$. After calling `detach()`, the $g_{\\theta_2}$ doesn't require grad anymore and gradient flow won't pass through it. So we can safely wright the above formula as: \n",
    "$$ \\theta_1 \\leftarrow \\theta_1 + \\alpha  \\sum_i^N g_{\\theta_2}(x_i) \\nabla_{\\theta} f_{\\theta_1}(x_i) $$"
   ],
   "metadata": {}
  },
  {
   "cell_type": "code",
   "execution_count": null,
   "source": [
    "# Pseudocode\n",
    "f_values = f(x) # Parametrized by theta_1\n",
    "g_values = g(x) # Parametrized by theta_2, but shares the first layer with theta_1\n",
    "g_stopgrad = g_values.detach() # Same as g_values, but not parametrized by theta anymore\n",
    "\n",
    "objective = torch.sum(g_stopgrad*f_values)\n",
    "objective.backward()"
   ],
   "outputs": [],
   "metadata": {}
  },
  {
   "cell_type": "markdown",
   "source": [
    "## 5. Example 2: SimSiam Network\n",
    "To better understand this `detach()` operator, let's take SimSiam (https://arxiv.org/pdf/2011.10566.pdf) architecture as an example.\n",
    "\n",
    "SimSiam architecture is used to learn image representation via unsupervised learning such that the similar samples stay close, while dissimilar ones are far apart (contrastive learning). SimSiam, as shown in the following figure, achieves this by learning an encoder `f` such that for an image `x` with different augmentation `aug1(x)` and `aug2(x)`, we can encode them into **similar** latent representations `z1` and `z2`. \n",
    "                                                     \n",
    "                                                       <---X--- stop-grad\n",
    "                         ---> aug1(x)---> encoder (f) ----------------------\n",
    "                        |                                                   |\n",
    "            image x --- |                                               Similarity\n",
    "                        |                                                   |\n",
    "                         ---> aug2(x)---> encoder (f) ---> predictor (h) ---\n",
    "\n",
    "Notice that both encoders `f` share the same parameters, if we directly maximize the similarity, the training will collapse, aka, for all images, the encoder f with always output the same z. Why? If for any input `x`, the encoder returns the same vector, say $[0, 0, 0]^T$, the similarity is always maximized, thus the optimizer will lead to this solution.\n",
    "\n",
    "In order to get the non-collapsing solutions, we need to **change the computational graph**. How? SimSiam proposes to use the **stop-grad** operator on one encoder and only update another encoder. To achieve this, in Pytorch, we can easily call `detach()` on the encoder to remove (see the `D(p, z)` function in the pseudocode). \n",
    "\n",
    "The Pytorch-like pseudocode of SimSiam is:"
   ],
   "metadata": {}
  },
  {
   "cell_type": "code",
   "execution_count": null,
   "source": [
    "# Pseudocode\n",
    "# f: encoder network, with parameters \\theta\n",
    "# h: prediction mlp\n",
    "\n",
    "for x in loader: # load a minibatch x with n samples\n",
    "    x1, x2 = aug_1(x), aug_2(x)  # random image augmentation\n",
    "    z1, z2 = f(x1), f(x2)\n",
    "    p1, p2 = h(z1), h(z2)\n",
    "    \n",
    "    loss = D(p1, z2)/2 + D(p2, z1)/2  # loss is the similarity between p1 and p2\n",
    "    \n",
    "    loss.backward()\n",
    "    update(f, h)\n",
    "    \n",
    "def D(p, z):  # negative cosine similarity\n",
    "    \n",
    "    z = z.detach() # Notice here, stop grad, the key operator\n",
    "    \n",
    "    p = normalize(p, dim=-1) # l2 normalize\n",
    "    z = normalize(x, dim=-1) # l2 normalize\n",
    "    \n",
    "    return - (p * z).sum(dim=-1).mean()"
   ],
   "outputs": [],
   "metadata": {}
  },
  {
   "cell_type": "markdown",
   "source": [
    "# Optional: Image Classification\n",
    "We have shown how to use an MLP to fit a simple model on a toy example, now let's use neural networks to solve a real task -- training an image classifier. The task is relatively straightforward: we have a bunch of images, we want to distinguish which classes they belong to. This example serves as a full example to help you understand how to prepare the data, how to build the model and how to train it. \n",
    "\n",
    "References: 1. http://www.d2l.ai/chapter_convolutional-neural-networks/index.html  \n",
    "            2. https://pytorch.org/tutorials/beginner/blitz/cifar10_tutorial.html#sphx-glr-beginner-blitz-cifar10-tutorial-py"
   ],
   "metadata": {}
  },
  {
   "cell_type": "markdown",
   "source": [
    "### Prepare Data\n",
    "Like the above examples, the first thing is to prepare the dataset. Instead of generating a synthetic dataset, this time we use the CIFAR10 dataset, which is easy to download and process with the help of PyTorch. The image pre-processing includes two steps: change them to `Tensor` format and then normalize them. After loading and pre-processing the `trainset` and `testset`, in order to train the model, we typically want to pass samples in `minibatches`, reshuffle the data at every epoch to reduce model overfitting, and use Python’s multiprocessing to speed up data retrieval. This can be done easily using the `DataLoader` API, which wraps an iterable around the `Dataset` to enable easy access to the samples.\n"
   ],
   "metadata": {}
  },
  {
   "cell_type": "code",
   "execution_count": 23,
   "source": [
    "import torch\n",
    "import torchvision\n",
    "import torchvision.transforms as transforms"
   ],
   "outputs": [],
   "metadata": {}
  },
  {
   "cell_type": "code",
   "execution_count": 24,
   "source": [
    "transform = transforms.Compose(\n",
    "    [transforms.ToTensor(),\n",
    "     transforms.Normalize((0.5, 0.5, 0.5), (0.5, 0.5, 0.5))])\n",
    "\n",
    "batch_size = 4 # training minibatch size\n",
    "\n",
    "trainset = torchvision.datasets.CIFAR10(root='./data', train=True,\n",
    "                                        download=True, transform=transform)\n",
    "trainloader = torch.utils.data.DataLoader(trainset, batch_size=batch_size,\n",
    "                                          shuffle=True, num_workers=2)\n",
    "\n",
    "testset = torchvision.datasets.CIFAR10(root='./data', train=False,\n",
    "                                       download=True, transform=transform)\n",
    "testloader = torch.utils.data.DataLoader(testset, batch_size=batch_size,\n",
    "                                         shuffle=False, num_workers=2)\n",
    "\n",
    "classes = ('plane', 'car', 'bird', 'cat',\n",
    "           'deer', 'dog', 'frog', 'horse', 'ship', 'truck')"
   ],
   "outputs": [
    {
     "output_type": "stream",
     "name": "stdout",
     "text": [
      "Files already downloaded and verified\n",
      "Files already downloaded and verified\n"
     ]
    }
   ],
   "metadata": {}
  },
  {
   "cell_type": "code",
   "execution_count": 25,
   "source": [
    "# let's plot some samples\n",
    "figure = plt.figure(figsize=(8, 8))\n",
    "cols, rows = 3, 3\n",
    "for i in range(1, cols * rows + 1):\n",
    "    sample_idx = torch.randint(len(trainset), size=(1,)).item()\n",
    "    img, label = trainset[sample_idx]\n",
    "    # process data inorder to show them\n",
    "    img = img / 2 + 0.5     # unnormalize\n",
    "    npimg = img.numpy()\n",
    "    npimg = np.transpose(npimg, (1, 2, 0)) # notice the default image is 3*32*32, we need to change them to 32*32*3\n",
    "\n",
    "    figure.add_subplot(rows, cols, i)\n",
    "    plt.title(classes[label])\n",
    "    plt.axis(\"off\")\n",
    "    plt.imshow(npimg)\n",
    "plt.show()\n"
   ],
   "outputs": [
    {
     "output_type": "display_data",
     "data": {
      "image/png": "[encoded data removed]",
      "text/plain": [
       "<Figure size 576x576 with 9 Axes>"
      ]
     },
     "metadata": {
      "needs_background": "light"
     }
    }
   ],
   "metadata": {}
  },
  {
   "cell_type": "markdown",
   "source": [
    "### Define the Convolutional Neural Network\n",
    "The convolutional neural network (CNN) is designed for processing images. CNN-based architectures are now ubiquitous in the field of computer vision, and become the default choice when inputs are pixels. Here, we only introduce the simplest CNN model, for modern CNN architectures that are widely used in DL, please check http://www.d2l.ai/chapter_convolutional-modern/index.html. \n",
    "\n",
    "In this example, we use two convolutional layers following three fully connected layers as our model. The output is a vector with size 10 corresponding to the probability of each class. To make predictions, we choose the label with the maximal probability."
   ],
   "metadata": {}
  },
  {
   "cell_type": "code",
   "execution_count": 26,
   "source": [
    "import torch.nn as nn\n",
    "import torch.nn.functional as F\n",
    "\n",
    "\n",
    "class Net(nn.Module):\n",
    "    def __init__(self):\n",
    "        super().__init__()\n",
    "        self.conv1 = nn.Conv2d(3, 6, 5)\n",
    "        self.pool = nn.MaxPool2d(2, 2)\n",
    "        self.conv2 = nn.Conv2d(6, 16, 5)\n",
    "        self.fc1 = nn.Linear(16 * 5 * 5, 120)\n",
    "        self.fc2 = nn.Linear(120, 84)\n",
    "        self.fc3 = nn.Linear(84, 10)\n",
    "\n",
    "    def forward(self, x):\n",
    "        x = self.pool(F.relu(self.conv1(x)))\n",
    "        x = self.pool(F.relu(self.conv2(x)))\n",
    "        x = torch.flatten(x, 1) # flatten all dimensions except batch\n",
    "        x = F.relu(self.fc1(x))\n",
    "        x = F.relu(self.fc2(x))\n",
    "        x = self.fc3(x)\n",
    "        return x\n",
    "\n",
    "net = Net()"
   ],
   "outputs": [],
   "metadata": {}
  },
  {
   "cell_type": "markdown",
   "source": [
    "### Train the Model\n",
    "The model training procedure is followed the previous examples, thus we won't discuss more. The full example can be found in PyTorch's tutorial."
   ],
   "metadata": {}
  },
  {
   "cell_type": "code",
   "execution_count": 27,
   "source": [
    "import torch.optim as optim\n",
    "\n",
    "criterion = nn.CrossEntropyLoss()\n",
    "optimizer = optim.SGD(net.parameters(), lr=0.001, momentum=0.9)\n",
    "\n",
    "for epoch in range(2):  # loop over the dataset multiple times\n",
    "\n",
    "    running_loss = 0.0\n",
    "    for i, data in enumerate(trainloader, 0):\n",
    "        # get the inputs; data is a list of [inputs, labels]\n",
    "        inputs, labels = data\n",
    "\n",
    "        # zero the parameter gradients\n",
    "        optimizer.zero_grad()\n",
    "\n",
    "        # forward + backward + optimize\n",
    "        outputs = net(inputs)\n",
    "        loss = criterion(outputs, labels)\n",
    "        loss.backward()\n",
    "        optimizer.step()\n",
    "\n",
    "        # print statistics\n",
    "        running_loss += loss.item()\n",
    "        if i % 2000 == 1999:    # print every 2000 mini-batches\n",
    "            print('[%d, %5d] loss: %.3f' %\n",
    "                  (epoch + 1, i + 1, running_loss / 2000))\n",
    "            running_loss = 0.0\n",
    "\n",
    "print('Finished Training')"
   ],
   "outputs": [
    {
     "output_type": "stream",
     "name": "stdout",
     "text": [
      "[1,  2000] loss: 2.169\n",
      "[1,  4000] loss: 1.843\n",
      "[1,  6000] loss: 1.670\n",
      "[1,  8000] loss: 1.586\n",
      "[1, 10000] loss: 1.509\n",
      "[1, 12000] loss: 1.460\n",
      "[2,  2000] loss: 1.412\n",
      "[2,  4000] loss: 1.379\n",
      "[2,  6000] loss: 1.367\n",
      "[2,  8000] loss: 1.351\n",
      "[2, 10000] loss: 1.322\n",
      "[2, 12000] loss: 1.288\n",
      "Finished Training\n"
     ]
    }
   ],
   "metadata": {}
  },
  {
   "cell_type": "code",
   "execution_count": 28,
   "source": [
    "# save the model\n",
    "PATH = './cifar_net.pth'\n",
    "torch.save(net.state_dict(), PATH)"
   ],
   "outputs": [],
   "metadata": {}
  },
  {
   "cell_type": "markdown",
   "source": [
    "### Visualize the Results"
   ],
   "metadata": {}
  },
  {
   "cell_type": "code",
   "execution_count": 29,
   "source": [
    "# let's plot some samples\n",
    "figure = plt.figure(figsize=(8, 8))\n",
    "cols, rows = 3, 3\n",
    "for i in range(1, cols * rows + 1):\n",
    "    sample_idx = torch.randint(len(testset), size=(1,)).item()\n",
    "    img, label = testset[sample_idx]\n",
    "\n",
    "    # calculate outputs by running images through the network\n",
    "    outputs = net(img.unsqueeze(dim=0))\n",
    "    # the class with the highest energy is what we choose as prediction\n",
    "    _, predicted = torch.max(outputs.data, 1)\n",
    "\n",
    "    # process data inorder to show them\n",
    "    npimg = (img/2+0.5).numpy() # unnormalize and convert to numpy\n",
    "    npimg = np.transpose(npimg, (1, 2, 0)) # notice the default image is 3*32*32, we need to change them to 32*32*3\n",
    "    \n",
    "    figure.add_subplot(rows, cols, i)\n",
    "    plt.title(f'GT: {classes[label]}, Pred: {classes[predicted]}')\n",
    "    plt.axis(\"off\")\n",
    "    plt.imshow(npimg)\n",
    "plt.show()"
   ],
   "outputs": [
    {
     "output_type": "display_data",
     "data": {
      "image/png": "[encoded data removed]",
      "text/plain": [
       "<Figure size 576x576 with 9 Axes>"
      ]
     },
     "metadata": {
      "needs_background": "light"
     }
    }
   ],
   "metadata": {}
  },
  {
   "cell_type": "code",
   "execution_count": 30,
   "source": [
    "# let's calculate the overall test accuracy\n",
    "correct = 0\n",
    "total = 0\n",
    "# since we're not training, we don't need to calculate the gradients for our outputs\n",
    "with torch.no_grad():\n",
    "    for data in testloader:\n",
    "        images, labels = data\n",
    "        # calculate outputs by running images through the network\n",
    "        outputs = net(images)\n",
    "        # the class with the highest energy is what we choose as prediction\n",
    "        _, predicted = torch.max(outputs.data, 1)\n",
    "        total += labels.size(0)\n",
    "        correct += (predicted == labels).sum().item()\n",
    "\n",
    "print('Accuracy of the network on the 10000 test images: %d %%' % (\n",
    "    100 * correct / total))"
   ],
   "outputs": [
    {
     "output_type": "stream",
     "name": "stdout",
     "text": [
      "Accuracy of the network on the 10000 test images: 50 %\n"
     ]
    }
   ],
   "metadata": {}
  },
  {
   "cell_type": "code",
   "execution_count": null,
   "source": [],
   "outputs": [],
   "metadata": {}
  }
 ],
 "metadata": {
  "kernelspec": {
   "name": "python3",
   "display_name": "Python 3.8.8 64-bit ('rl_pytorch': conda)"
  },
  "language_info": {
   "codemirror_mode": {
    "name": "ipython",
    "version": 3
   },
   "file_extension": ".py",
   "mimetype": "text/x-python",
   "name": "python",
   "nbconvert_exporter": "python",
   "pygments_lexer": "ipython3",
   "version": "3.8.8"
  },
  "interpreter": {
   "hash": "79cde69fcce212f2dcfc86fc7d14ff7fa4294891a60d8a7090286894fe9f5e75"
  }
 },
 "nbformat": 4,
 "nbformat_minor": 5
}