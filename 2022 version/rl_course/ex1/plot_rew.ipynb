{
 "cells": [
  {
   "cell_type": "code",
   "execution_count": 3,
   "metadata": {},
   "outputs": [
    {
     "ename": "ModuleNotFoundError",
     "evalue": "No module named 'dm_env'",
     "output_type": "error",
     "traceback": [
      "\u001b[1;31m---------------------------------------------------------------------------\u001b[0m",
      "\u001b[1;31mModuleNotFoundError\u001b[0m                       Traceback (most recent call last)",
      "Cell \u001b[1;32mIn[3], line 13\u001b[0m\n\u001b[0;32m     11\u001b[0m \u001b[39mfrom\u001b[39;00m \u001b[39mpathlib\u001b[39;00m \u001b[39mimport\u001b[39;00m Path\n\u001b[0;32m     12\u001b[0m \u001b[39mfrom\u001b[39;00m \u001b[39magent\u001b[39;00m \u001b[39mimport\u001b[39;00m Agent, Policy\n\u001b[1;32m---> 13\u001b[0m \u001b[39mfrom\u001b[39;00m \u001b[39mcommon\u001b[39;00m \u001b[39mimport\u001b[39;00m helper \u001b[39mas\u001b[39;00m h\n\u001b[0;32m     15\u001b[0m \u001b[39mimport\u001b[39;00m \u001b[39mwarnings\u001b[39;00m\n\u001b[0;32m     16\u001b[0m warnings\u001b[39m.\u001b[39mfilterwarnings(\u001b[39m\"\u001b[39m\u001b[39mignore\u001b[39m\u001b[39m\"\u001b[39m, category\u001b[39m=\u001b[39m\u001b[39mUserWarning\u001b[39;00m) \n",
      "File \u001b[1;32mc:\\Users\\springnuance\\Desktop\\Reinforcement Learning\\rl_course\\common\\__init__.py:2\u001b[0m\n\u001b[0;32m      1\u001b[0m \u001b[39mfrom\u001b[39;00m \u001b[39m.\u001b[39;00m\u001b[39mbuffer\u001b[39;00m \u001b[39mimport\u001b[39;00m ReplayBuffer\n\u001b[1;32m----> 2\u001b[0m \u001b[39mfrom\u001b[39;00m \u001b[39m.\u001b[39;00m\u001b[39menv\u001b[39;00m \u001b[39mimport\u001b[39;00m make_env\n\u001b[0;32m      3\u001b[0m \u001b[39mfrom\u001b[39;00m \u001b[39m.\u001b[39;00m\u001b[39msimulator\u001b[39;00m \u001b[39mimport\u001b[39;00m SimulatorWrapper\n\u001b[0;32m      4\u001b[0m \u001b[39mfrom\u001b[39;00m \u001b[39m.\u001b[39;00m\u001b[39mvideo_recorder\u001b[39;00m \u001b[39mimport\u001b[39;00m VideoRecorder\n",
      "File \u001b[1;32mc:\\Users\\springnuance\\Desktop\\Reinforcement Learning\\rl_course\\common\\env.py:3\u001b[0m\n\u001b[0;32m      1\u001b[0m \u001b[39mfrom\u001b[39;00m \u001b[39mcollections\u001b[39;00m \u001b[39mimport\u001b[39;00m deque, defaultdict\n\u001b[0;32m      2\u001b[0m \u001b[39mfrom\u001b[39;00m \u001b[39mtyping\u001b[39;00m \u001b[39mimport\u001b[39;00m Any, NamedTuple\n\u001b[1;32m----> 3\u001b[0m \u001b[39mimport\u001b[39;00m \u001b[39mdm_env\u001b[39;00m\n\u001b[0;32m      4\u001b[0m \u001b[39mimport\u001b[39;00m \u001b[39mnumpy\u001b[39;00m \u001b[39mas\u001b[39;00m \u001b[39mnp\u001b[39;00m\n\u001b[0;32m      5\u001b[0m \u001b[39mfrom\u001b[39;00m \u001b[39mdm_control\u001b[39;00m \u001b[39mimport\u001b[39;00m suite\n",
      "\u001b[1;31mModuleNotFoundError\u001b[0m: No module named 'dm_env'"
     ]
    }
   ],
   "source": [
    "import sys, os\n",
    "sys.path.insert(0, os.path.abspath(\"..\"))\n",
    "os.environ[\"SDL_VIDEODRIVER\"] = \"dummy\" # for pygame rendering\n",
    "import torch\n",
    "import gym\n",
    "import numpy as np\n",
    "import matplotlib.pyplot as plt\n",
    "import reacher\n",
    "import seaborn as sns\n",
    "import sys\n",
    "from pathlib import Path\n",
    "from agent import Agent, Policy\n",
    "from common import helper as h\n",
    "\n",
    "import warnings\n",
    "warnings.filterwarnings(\"ignore\", category=UserWarning) \n",
    "warnings.filterwarnings(\"ignore\", category=DeprecationWarning) "
   ]
  },
  {
   "cell_type": "code",
   "execution_count": null,
   "metadata": {},
   "outputs": [],
   "source": [
    "env_name = \"Reacher-v1\" \n",
    "resolution = 101  # Resolution of the policy/reward image"
   ]
  },
  {
   "cell_type": "code",
   "execution_count": null,
   "metadata": {},
   "outputs": [],
   "source": [
    "# Load policy from default path to plot\n",
    "policy_dir = Path().cwd()/'results'/'model'/f'{env_name}_params.pt'"
   ]
  },
  {
   "cell_type": "code",
   "execution_count": null,
   "metadata": {},
   "outputs": [],
   "source": [
    "sns.set()\n",
    "\n",
    "# Create a gym environment\n",
    "env = gym.make(env_name)\n",
    "\n",
    "action_space_dim = h.get_space_dim(env.action_space)\n",
    "observation_space_dim = h.get_space_dim(env.observation_space)\n",
    "policy = Policy(observation_space_dim, action_space_dim)\n",
    "\n",
    "if policy_dir:\n",
    "    policy.load_state_dict(torch.load(policy_dir))\n",
    "    print(\"Loading policy from\", policy_dir)\n",
    "else:\n",
    "    print(\"Plotting a random policy\")\n"
   ]
  },
  {
   "cell_type": "code",
   "execution_count": null,
   "metadata": {},
   "outputs": [],
   "source": [
    "# Create a grid and initialize arrays to store rewards and actions\n",
    "npoints = resolution\n",
    "state_range = np.linspace(-np.pi, np.pi, npoints)\n",
    "rewards = np.zeros((npoints, npoints))\n",
    "actions = np.zeros((npoints, npoints), dtype=np.int32)\n",
    "\n",
    "# Loop through state[0] and state[1]\n",
    "for i,th1 in enumerate(state_range):\n",
    "    for j,th2 in enumerate(state_range):\n",
    "        # Create the state vector from th1, th2\n",
    "        state = np.array([th1, th2])\n",
    "\n",
    "        # Query the policy and find the most probable action\n",
    "        with torch.no_grad():\n",
    "            action_dist, _ = policy(torch.from_numpy(state).float().unsqueeze(0))\n",
    "        action_probs = action_dist.probs.numpy()\n",
    "\n",
    "        # TODO: Task 4: 1. What's the best action, according to the policy?\n",
    "        # .             2. Compute the reward given state\n",
    "        ########## Your code starts here ##########\n",
    "        # Use the action probabilities in the action_probs vector\n",
    "        # (it's a numpy array)\n",
    "        actions[i, j] = 0\n",
    "        \n",
    "        rewards[i,j] = 0 \n",
    "        ########## Your code ends here ##########\n"
   ]
  },
  {
   "cell_type": "code",
   "execution_count": null,
   "metadata": {},
   "outputs": [],
   "source": [
    "# Create the reward plot\n",
    "num_ticks = 10\n",
    "tick_skip = max(1, npoints // num_ticks)\n",
    "tick_shift = 2*np.pi/npoints/2\n",
    "tick_points = np.arange(npoints)[::tick_skip] + tick_shift\n",
    "tick_labels = state_range.round(2)[::tick_skip]\n",
    "\n",
    "sns.heatmap(rewards)\n",
    "plt.xticks(tick_points, tick_labels, rotation=45)\n",
    "plt.yticks(tick_points, tick_labels, rotation=45)\n",
    "plt.xlabel(\"J2\")\n",
    "plt.ylabel(\"J1\")\n",
    "plt.title(\"Reward\")\n",
    "plt.suptitle(\"Rewards in %s\" % env_name)\n",
    "plt.show()\n"
   ]
  },
  {
   "cell_type": "code",
   "execution_count": null,
   "metadata": {},
   "outputs": [],
   "source": [
    "# # Create the policy plot\n",
    "cmap = sns.color_palette(\"deep\", action_space_dim)\n",
    "sns.heatmap(actions, cmap=cmap, vmin=0, vmax=action_space_dim-1)\n",
    "plt.xticks(tick_points, tick_labels, rotation=45)\n",
    "plt.yticks(tick_points, tick_labels, rotation=45)\n",
    "colorbar = plt.gca().collections[0].colorbar\n",
    "ticks = np.array(range(action_space_dim))*((action_space_dim-1)/action_space_dim)+0.5\n",
    "colorbar.set_ticks(ticks)\n",
    "if env.spec.id == \"Reacher-v1\":\n",
    "    # In Reacher, we can replace 0..4 with more readable labels\n",
    "    labels = [\"J1+\", \"J1-\", \"J2+\", \"J2-\", \"Stop\"]\n",
    "else:\n",
    "    labels = list(map(str, range(action_space_dim)))\n",
    "colorbar.set_ticklabels(labels)\n",
    "plt.xlabel(\"J2\")\n",
    "plt.ylabel(\"J1\")\n",
    "plt.title(\"Best action\")\n",
    "plt.suptitle(\"Best action in %s\" % env_name)\n",
    "plt.show()"
   ]
  }
 ],
 "metadata": {
  "kernelspec": {
   "display_name": "Python 3 (ipykernel)",
   "language": "python",
   "name": "python3"
  },
  "language_info": {
   "codemirror_mode": {
    "name": "ipython",
    "version": 3
   },
   "file_extension": ".py",
   "mimetype": "text/x-python",
   "name": "python",
   "nbconvert_exporter": "python",
   "pygments_lexer": "ipython3",
   "version": "3.11.3"
  },
  "vscode": {
   "interpreter": {
    "hash": "fd83ff56f6777e6e758811c394427f18acade90acb82137bfcd1e92d18c6a724"
   }
  }
 },
 "nbformat": 4,
 "nbformat_minor": 2
}
