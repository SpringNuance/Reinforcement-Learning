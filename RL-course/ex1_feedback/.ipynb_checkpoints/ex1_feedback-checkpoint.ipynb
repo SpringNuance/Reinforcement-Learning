{
 "cells": [
  {
   "cell_type": "markdown",
   "id": "3c0865c7",
   "metadata": {},
   "source": [
    "# EX1 Feedback\n",
    "In order to help the staff of the course as well as the forthcoming students, it would be great if you could answer to the following questions in your submission:"
   ]
  },
  {
   "cell_type": "markdown",
   "id": "322b0f7e",
   "metadata": {},
   "source": [
    "1) How much time did you spend solving this exercise? (change the ```hrs``` variable below to a floating point number representing the number of hours taken e.g. 5.43)"
   ]
  },
  {
   "cell_type": "code",
   "execution_count": null,
   "id": "0174a20a",
   "metadata": {},
   "outputs": [],
   "source": [
    "hrs = None"
   ]
  },
  {
   "cell_type": "markdown",
   "id": "3f1607e8",
   "metadata": {},
   "source": [
    "2) Difficulty of each task/question from 1-5 (int or float)"
   ]
  },
  {
   "cell_type": "code",
   "execution_count": null,
   "id": "69b4ce08",
   "metadata": {},
   "outputs": [],
   "source": [
    "T1 = None\n",
    "Q1_1 = None\n",
    "Q2_1 = None\n",
    "Q2_2 = None\n",
    "T3 = None\n",
    "T4 = None\n",
    "Q4_1 = None\n",
    "Q4_2 = None"
   ]
  },
  {
   "cell_type": "markdown",
   "id": "7ffd83eb",
   "metadata": {},
   "source": [
    "3) How well did you understand the content of the task/question from 1-5? (int or float)"
   ]
  },
  {
   "cell_type": "code",
   "execution_count": null,
   "id": "14a7c795",
   "metadata": {},
   "outputs": [],
   "source": [
    "T1 = None\n",
    "Q1_1 = None\n",
    "Q2_1 = None\n",
    "Q2_2 = None\n",
    "T3 = None\n",
    "T4 = None\n",
    "Q4_1 = None\n",
    "Q4_2 = None"
   ]
  },
  {
   "cell_type": "markdown",
   "id": "cb5652f0",
   "metadata": {},
   "source": [
    "4) General feedback. Consider questions like:\n",
    "\n",
    "    - Did the content of the lecture relate well with the assignment?\n",
    "    - To what extent did you find the material to be potentially useful for your research and studies?\n",
    "    \n",
    "And other feedback you think is worth including. Type in the box below"
   ]
  },
  {
   "cell_type": "markdown",
   "id": "1df915c5",
   "metadata": {},
   "source": [
    "DOUBLE CLICK HERE TO EDIT, CLEAR THIS TEXT AND ANSWER HERE"
   ]
  },
  {
   "cell_type": "code",
   "execution_count": null,
   "id": "80e0d932",
   "metadata": {},
   "outputs": [],
   "source": []
  }
 ],
 "metadata": {
  "kernelspec": {
   "display_name": "Python 3",
   "language": "python",
   "name": "python3"
  },
  "language_info": {
   "codemirror_mode": {
    "name": "ipython",
    "version": 3
   },
   "file_extension": ".py",
   "mimetype": "text/x-python",
   "name": "python",
   "nbconvert_exporter": "python",
   "pygments_lexer": "ipython3",
   "version": "3.10.8"
  }
 },
 "nbformat": 4,
 "nbformat_minor": 5
}
