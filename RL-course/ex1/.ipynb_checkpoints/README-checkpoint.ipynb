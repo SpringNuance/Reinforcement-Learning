{
 "cells": [
  {
   "cell_type": "markdown",
   "id": "c5fb1496",
   "metadata": {},
   "source": [
    "# General Notes and Advice\n",
    "## Setting up Wandb\n",
    "Weights and Biases is used in the assignments to help manage plotting data from Reinforcement Learning. In order to use it you will have to create an account on the following [website](https://wandb.ai/site). Once created the code in the notebook will create a project called ```rl_aalto``` for you. Finding the relevant plots should be self explantory but please ask for help in slack or in the exercise sessions if you come across any problems.\n",
    "\n",
    "## How to Export Plot From Wandb\n",
    "Export a plot from wandb is easy:\n",
    "\n",
    "1. Open your wandb workspace and select the runs to plot.\n",
    "2. Edit the plot (e.g., episode-ep_reward plot) you gonna export (click the ✏️ button at the upper right corner of the panel).\n",
    "    1. In `Data`, change the x-, and y-axis to `episodes` and `ep_reward` \n",
    "    2. In `Grouping`, group runs and select `mean` and `stddev` if needed.\n",
    "    3. In `Chart`, edit the name of the x- and y-axis.\n",
    "    4. In `Legend`, change the legend name.\n",
    "3. Export the panel as `.pdf` and include it in your report.\n",
    "\n",
    "## How to Submit\n",
    "Exercises must be done **individually**. We will use **TurnItIn** to verify this. You can work with peers on the solutions but the solution you provide must be your own work. It is advised to ask questions in the [Zulip channel](https://rl-2023.zulip.aalto.fi/join/4b3jtfuh67xnnqhy62zg547f/) and attend to the exercise sessions as TAs will assist you on the solutions. It's recommended to use the **Slack channel** as the main place to ask questions since other people might ask the same questions. But **avoid sharing your code** in the channel, if the code sharing is needed for your questions, you can have a private discussion with TAs or attend the exercise session.\n",
    "\n",
    "Marking is conducted both automatically and manually by the TAs. Most tasks are automatically graded whilst most questions are manually graded.\n",
    "\n",
    "### Completing Tasks and Answering Questions\n",
    "**Tasks**: require you to complete a programming assignment. **Plots generated during the training of a task must be in the report.** You can create new cells if you need. \n",
    "\n",
    "**Questions** are filled out in the relevant markdown boxes with text containing ```DOUBLE CLICK HERE TO EDIT, CLEAR THIS TEXT AND ANSWER HERE```. Find online sources for formatting juypter-notebook markdown cells. The **Questions** are divided into:\n",
    "- Yes/no questions, e.g. Can the provided model be trained without further modification?\n",
    "- Discussing questions, requires you to briefly explain or justify your answer, e.g. why/why not?\n",
    "\n",
    "It is usually marked which kind of answer we expect from a question. The questions that require you to justify your answer must be properly argued. Please avoid answers that do not provide any reasoning. Some examples of answers that are poorly justified and why they are poorly justified are:\n",
    "- Why does the reinforcement learning algorithm perform better when adding the parameter $\\gamma$? Because it takes less time than before. - This answer does not provide any reasoning about how modifying $\\gamma$ affects the learning algorithm.\n",
    "- How does the reward change over multiple runs of the algorithm? The reward is the same at the end of the training. - This answer might be obvious. What is interesting about how it changed, what could be the reason behind it?\n",
    "\n",
    "### Attaching Images and Figures\n",
    "To attach images and training plots please use the following template in a markdown cell. Feel free to customize the code below in anyway to fit the style you want. Ensure your figure numbers and references are correct. \n",
    "```\n",
    "<figure>\n",
    "<img src=\"imgs/image_name.png\" width=\"400px\">\n",
    "<figcaption style=\"text-align: center\"> Figure x: Some figure caption  </figcaption>\n",
    "</figure>\n",
    "```\n",
    "\n",
    "### Including References\n",
    "When answering questions or doing tasks please reference appropiately. At the bottom of each exercise workbook is a section for including references. Unfortunately you do need to write the references and cite manually, no automatic solution for jupyter notebook has been found yet. Please use IEEE citation style. \n",
    "\n",
    "## Feedback\n",
    "In order to help the staff of the course as well as the forthcoming students, it would be great if you could answer to the feedback for each assignment. To give feedback use the ```feedback.ipynb``` file found in the directory of each assignment."
   ]
  },
  {
   "cell_type": "code",
   "execution_count": null,
   "id": "4323d0da-cc31-4705-957d-e60be7e3e4ae",
   "metadata": {},
   "outputs": [],
   "source": []
  }
 ],
 "metadata": {
  "kernelspec": {
   "display_name": "Python 3",
   "language": "python",
   "name": "python3"
  },
  "language_info": {
   "codemirror_mode": {
    "name": "ipython",
    "version": 3
   },
   "file_extension": ".py",
   "mimetype": "text/x-python",
   "name": "python",
   "nbconvert_exporter": "python",
   "pygments_lexer": "ipython3",
   "version": "3.10.8"
  }
 },
 "nbformat": 4,
 "nbformat_minor": 5
}
