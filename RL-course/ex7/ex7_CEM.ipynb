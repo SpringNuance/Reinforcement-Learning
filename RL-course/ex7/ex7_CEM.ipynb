{
 "cells": [
  {
   "cell_type": "markdown",
   "id": "332ba632",
   "metadata": {},
   "source": [
    "\n",
    "<div class=\"alert alert-block alert-info\">\n",
    "   <h2 align=\"center\"> <center><b> Reinforcement Learning Assignment 7 - Model Based Reinforcement Learning </b></center></h2>\n",
    "\n",
    "<br>\n",
    "<center><font size=\"3\">This notebook is a part of teaching material for ELEC-E8125</font></center>\n",
    "<center><font size=\"3\">Sep 4, 2023 - Nov 30, 2023</font></center>\n",
    "<center><font size=\"3\">Aalto University</font></center>\n",
    "</div>\n",
    "\n",
    "\n",
    "<a id='TOC'></a>\n",
    "\n",
    "<div class=\"alert alert-block alert-success\">\n",
    "    \n",
    "# Table of contents\n",
    "* <a href='#1.'> 1. Introduction </a>\n",
    "* <a href='#1.1'> 1.1 Learning Objectives </a>\n",
    "* <a href='#1.2'> 1.2 Code Structure & Files </a>\n",
    "* <a href='#2.'> 2. Cross Entropy Method (CEM) </a>\n",
    "* <a href='#3.'> 3. Submitting </a>\n",
    "* <a href='#3.1'> 3.1 Feedback </a>\n",
    "* <a href='#4.'> References</a>\n",
    "\n",
    "<a href='#T1'><b>Student Task 1.</b> Implementing CEM (30 points)</a>\\\n",
    "<a href='#Q1'><b>Student Question 1.1</b> Changing Number of Samples (10 points)</a>\\\n",
    "<a href='#Q2'><b>Student Question 1.2</b> Model-free vs Mode-based RL (20 points)</a>\n",
    "    \n",
    "**Total Points:** 60"
   ]
  },
  {
   "cell_type": "markdown",
   "id": "013318a6",
   "metadata": {},
   "source": [
    "# 1. Introduction <a id='1.'></a>\n",
    "In this exercise we will dive into model-based reinforcement learning. We will implement planning over several time steps. We will use the cross entropy method (CEM) to choose actions at each time step. CEM is often used in model-based reinforcement learning for choosing actions. The main working principles of CEM were explained during the lecture \"Model-based RL\". We use the simulator to simulate state transitions (another possibility would be to learn a dynamics model $s_{t+1} = f(s_t, a_t)$ to simulate state transitions if access to the system dynamics is not available).\n",
    "\n",
    "## 1.1 Learning Objectives: <a id='1.1'></a>\n",
    "- Understand how to get CEM planning working in practice\n",
    "- Understand limitations and advantages of model-based RL using CEM\n",
    "\n",
    "## 1.2 Code Structure & Files <a id='1.2'></a>\n",
    "\n",
    "You don’t have to edit any other file other than ```ex7.ipynb``` to complete this exercise.\n",
    "\n",
    "```\n",
    "├───imgs                 # Images used in notebook\n",
    "│   ex7_CEM.ipynb        # Main assignment file containing tasks <---------\n",
    "│   env.py               # Wrappers for the environment\n",
    "|   simulator.py         # Using the exact environment as the model (simulator)\n",
    "```"
   ]
  },
  {
   "cell_type": "markdown",
   "id": "5197a537",
   "metadata": {},
   "source": [
    "# 2. Cross Entropy Method (CEM) <a id='2.'></a>\n",
    "\n",
    "In this section, we will try to solve the **Cup-Catch** environment from the [DeepMind Control Suite](https://github.com/deepmind/dm_control/tree/main/dm_control/suite) by planning using CEM. \n",
    "\n",
    "In **Cup-Catch**, a ball is attached to a string which hangs from a cup. The goal is to swing the ball into the cup by moving the cup vertically up and down. The task has a sparse reward: 1 when the ball is in the cup, 0 otherwise. In order to save computation time we select an action every six time steps and use a wrapper to repeat the same action 6 times. Therefore, the maximum reward for each actual time step is 6.\n",
    "\n",
    "<br>\n",
    "\n",
    "<div style=\"text-align: center;\">\n",
    "    <img src=\"imgs/cup_catcher.png\" width=\"400px\">\n",
    "    <figcaption> Figure 1: Cup-Catch environment </figcaption>\n",
    "</div>"
   ]
  },
  {
   "cell_type": "markdown",
   "id": "3e72ec92",
   "metadata": {},
   "source": [
    "<a id='T1'></a>\n",
    "<div class=\" alert alert-warning\">\n",
    "    <h3><b>Student Task 1.</b> Implementing CEM (30 points) </h3> \n",
    "\n",
    "You need to complete the planning part in the code marked as ```TODO```. The code takes advantage of multiple processor cores by parallelizing the code. For more information about parallelizing, please check [Joblib](https://joblib.readthedocs.io/en/latest/generated/joblib.Parallel.html). <br>\n",
    "    \n",
    "**Ensure that the notebook contains the reward plot.** \n",
    "\n",
    "The reference training plot is as Figure 2:\n",
    "\n",
    "<div style=\"text-align: center;\">\n",
    "    <img src=\"imgs/cem_reward.png\">\n",
    "    <figcaption> Figure 2: Reward function at each time step in CEM </figcaption>\n",
    "</div>\n",
    "            \n",
    "🔝\t<a href='#TOC'><b>Table of Contents</b></a>\n",
    "</div>\n"
   ]
  },
  {
   "cell_type": "code",
   "execution_count": 1,
   "id": "eb546a87",
   "metadata": {
    "tags": []
   },
   "outputs": [],
   "source": [
    "from pathlib import Path # to find directory\n",
    "import sys, os\n",
    "sys.path.append(\"..\")\n",
    "\n",
    "from typing import Sequence, Tuple, Dict, Callable, List\n",
    "from functools import partial\n",
    "import copy, torch, time\n",
    "from joblib import Parallel, delayed\n",
    "import numpy as np\n",
    "\n",
    "from env import make_env\n",
    "from simulator import SimulatorWrapper\n",
    "import matplotlib.pyplot as plt"
   ]
  },
  {
   "cell_type": "code",
   "execution_count": 2,
   "id": "60671443-30df-4a7c-bffc-2e88a1fb70c7",
   "metadata": {
    "tags": []
   },
   "outputs": [],
   "source": [
    "%%capture\n",
    "!pip install mediapy # install a package required for video visualization"
   ]
  },
  {
   "cell_type": "code",
   "execution_count": 21,
   "id": "47668253",
   "metadata": {
    "tags": []
   },
   "outputs": [],
   "source": [
    "class CEM(object):\n",
    "    def __init__(\n",
    "        self, \n",
    "        model,\n",
    "        action_shape,\n",
    "        num_samples,\n",
    "        num_topk,\n",
    "        plan_horizon,\n",
    "        iteration,\n",
    "        keep_last_solution,\n",
    "        expl_noise\n",
    "    ):\n",
    "\n",
    "        self.model = model # the dynamics model\n",
    "\n",
    "        self.action_dim = action_shape[0]\n",
    "        self.num_samples = num_samples\n",
    "        self.num_topk = num_topk\n",
    "        self.plan_horizon = plan_horizon\n",
    "        self.iteration = iteration\n",
    "        self.keep_last_solution = keep_last_solution\n",
    "        self.expl_noise = expl_noise\n",
    "\n",
    "        # init simulator\n",
    "        o = self.model.reset()\n",
    "        self.model.save_checkpoint()\n",
    "        \n",
    "    def plan(self, obs, t0, eval_mode=False):\n",
    "        if obs.ndim == 1: obs = obs[None] # add batch dim\n",
    "        # initialize paramters\n",
    "        mean = np.zeros((self.plan_horizon, self.action_dim))\n",
    "        std = np.ones_like(mean)\n",
    "        # use previous plan as start point if not at the first step\n",
    "        if not t0 and hasattr(self, \"_prev_mean\"):\n",
    "            mean[:-1] = copy.copy(self._prev_mean[1:])\n",
    "\n",
    "        with Parallel(n_jobs=-1,) as parallel:  # we use joblib.Parallel to parallel the evaluation.\n",
    "            # Iterate CEM\n",
    "            for _ in range(self.iteration):\n",
    "                # TODO: Implement Cross-Entropy Method\n",
    "                \n",
    "                # Hints: \n",
    "                # 1. Generate random actions using Gaussian distribution with mean and std as parameters. \n",
    "                #    Use self.num_samples as the number of samples. Clip the samples to (-1, 1).\n",
    "                # 2. Perform Monte Carlo evaluation by computing the episode return for each sample using self.model as follows:\n",
    "                #    2.1. Use parallel(delayed(rollout_simulator)(self.model, action_sample) for each sample from 1.\n",
    "                # 3. Select top self.num_topk actions (elite actions) using episode returns from 2.1. Use numpy.argpartition.\n",
    "                # 4. Compute mean and std of elite actions and assign it to mean and std used in 1.\n",
    "                \n",
    "                ########## Your code starts here. ##########\n",
    "\n",
    "                # 1. Generate random actions using Gaussian distribution with mean and std as parameters.\n",
    "                # Use self.num_samples as the number of samples. \n",
    "                action_samples = np.random.normal(loc=mean[:, None], scale=std[:, None], size=(self.plan_horizon, self.num_samples, self.action_dim))\n",
    "\n",
    "                # Clip the samples to (-1, 1).\n",
    "                action_samples = np.clip(action_samples, -1, 1)\n",
    "                \n",
    "                # 2. Perform Monte Carlo evaluation by computing the episode return for each sample using self.model as follows:\n",
    "                # Use parallel(delayed(rollout_simulator)(self.model, action_sample) for each sample from 1.\n",
    "                returns = parallel(delayed(rollout_simulator)(self.model, action_samples[:, i, :]) for i in range(self.num_samples))\n",
    "                returns = np.array(returns) # shape (num_samples, )\n",
    "                \n",
    "                # 3. Select top self.num_topk actions (elite actions) using episode returns from 2.1. Use numpy.argpartition.\n",
    "                top_indices = np.argpartition(returns, -self.num_topk,  axis=None)[-self.num_topk:]\n",
    "                top_actions = action_samples[:, top_indices]\n",
    "                \n",
    "                # 4. Compute mean and std of elite actions and assign it to mean and std used in 1.\n",
    "                mean = top_actions.mean(axis=1)\n",
    "                std = top_actions.std(axis=1)\n",
    "                \n",
    "                ########## Your code ends here. ##########\n",
    "\n",
    "        if self.keep_last_solution:\n",
    "            self._prev_mean = mean\n",
    "\n",
    "        # select the first action in the planed horizon\n",
    "        action, std = mean[0], std[0]\n",
    "\n",
    "        if not eval_mode:\n",
    "            action += self.expl_noise * np.random.randn(action.shape)\n",
    "\n",
    "        # update the simulator state since simulator is used to do planning\n",
    "        next_obs, reward, done, info = self.model.step(action)\n",
    "        self.model.save_checkpoint()\n",
    "        \n",
    "        return action, info  \n",
    "        \n",
    "\n",
    "def rollout_simulator(model, traj):\n",
    "    model.load_checkpoint()\n",
    "\n",
    "    terminated, episode_return = False, 0\n",
    "    for act in traj:\n",
    "        obs, reward, done, _ = model.step(act)\n",
    "        reward = 0 if terminated else reward\n",
    "\n",
    "        terminated |= bool(done)\n",
    "        episode_return += reward\n",
    "        \n",
    "        if done: \n",
    "            break\n",
    "        \n",
    "    return episode_return"
   ]
  },
  {
   "cell_type": "code",
   "execution_count": 24,
   "id": "ee0dfc4a",
   "metadata": {
    "scrolled": true,
    "tags": []
   },
   "outputs": [],
   "source": [
    "# Note because of the action repeat a reward of 6 can be achieved from multiple steps being taken where the ball in the cup\n",
    "eval_env = make_env(\n",
    "    env_name='cup-catch',\n",
    "    seed=1,\n",
    "    action_repeat=6,\n",
    "    modality='pixels', \n",
    "    frame_stack=1,\n",
    "    img_size=(240, 320)\n",
    ")\n",
    "\n",
    "model_env = make_env(\n",
    "    env_name='cup-catch',\n",
    "    seed=1,\n",
    "    action_repeat=6\n",
    ")\n",
    "\n",
    "obs_shape = tuple(int(x) for x in eval_env.observation_space.shape)\n",
    "action_shape = tuple(int(x)  for x in eval_env.action_space.shape)\n",
    "\n",
    "model = SimulatorWrapper(model_env)\n",
    "\n",
    "agent = CEM(\n",
    "    model=model,\n",
    "    action_shape = action_shape,\n",
    "    num_samples=50,\n",
    "    num_topk=5,\n",
    "    plan_horizon=12,\n",
    "    iteration=5,\n",
    "    keep_last_solution=True,\n",
    "    expl_noise=0.3\n",
    ")"
   ]
  },
  {
   "cell_type": "code",
   "execution_count": 25,
   "id": "d2c5bdc7-3a44-4c6e-9f27-d9550b9cc0a8",
   "metadata": {
    "scrolled": true,
    "tags": []
   },
   "outputs": [
    {
     "name": "stdout",
     "output_type": "stream",
     "text": [
      "Timestep: 0 Reward: 0.0\n",
      "Timestep: 1 Reward: 0.0\n",
      "Timestep: 2 Reward: 0.0\n",
      "Timestep: 3 Reward: 0.0\n",
      "Timestep: 4 Reward: 0.0\n",
      "Timestep: 5 Reward: 0.0\n",
      "Timestep: 6 Reward: 0.0\n",
      "Timestep: 7 Reward: 0.0\n",
      "Timestep: 8 Reward: 0.0\n",
      "Timestep: 9 Reward: 0.0\n",
      "Timestep: 10 Reward: 0.0\n",
      "Timestep: 11 Reward: 0.0\n",
      "Timestep: 12 Reward: 0.0\n",
      "Timestep: 13 Reward: 0.0\n",
      "Timestep: 14 Reward: 0.0\n",
      "Timestep: 15 Reward: 0.0\n",
      "Timestep: 16 Reward: 5.0\n",
      "Timestep: 17 Reward: 6.0\n",
      "Timestep: 18 Reward: 6.0\n",
      "Timestep: 19 Reward: 6.0\n"
     ]
    }
   ],
   "source": [
    "obs, done, ep_reward, t = eval_env.reset(), False, 0, 0\n",
    "rewards, observations = [], []\n",
    "while not done and t < 20:\n",
    "    action, info = agent.plan(obs, eval_mode=True, t0=(t==0))\n",
    "    obs, reward, done, _ = eval_env.step(action)\n",
    "    rewards.append(reward)\n",
    "    observations.append(obs)\n",
    "    \n",
    "    print(f'Timestep: {t} Reward: {reward}')\n",
    "    ep_reward += reward\n",
    "\n",
    "    t += 1"
   ]
  },
  {
   "cell_type": "code",
   "execution_count": 26,
   "id": "b4399036-8ac8-450e-8abc-924b7cdb0d04",
   "metadata": {
    "tags": []
   },
   "outputs": [],
   "source": [
    "import mediapy \n",
    "mediapy.write_video('video.mp4', [observations[i].transpose(1, 2, 0) for i in range(len(observations))], fps=10)"
   ]
  },
  {
   "cell_type": "code",
   "execution_count": 27,
   "id": "04b4f167-2f92-4239-aca4-da38c0923882",
   "metadata": {
    "tags": []
   },
   "outputs": [
    {
     "data": {
      "text/html": [
       "<video controls  >\n",
       " <source src=\"data:video/mp4;base64,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\" type=\"video/mp4\">\n",
       " Your browser does not support the video tag.\n",
       " </video>"
      ],
      "text/plain": [
       "<IPython.core.display.Video object>"
      ]
     },
     "execution_count": 27,
     "metadata": {},
     "output_type": "execute_result"
    }
   ],
   "source": [
    "from IPython.display import Video # to display videos\n",
    "Video(Path().cwd()/'video.mp4', embed=True)"
   ]
  },
  {
   "cell_type": "code",
   "execution_count": 28,
   "id": "1aabdf29-028e-41af-b8fc-57e5eee59c08",
   "metadata": {
    "tags": []
   },
   "outputs": [
    {
     "data": {
      "image/png": "[encoded data removed]",
      "text/plain": [
       "<Figure size 600x400 with 1 Axes>"
      ]
     },
     "metadata": {},
     "output_type": "display_data"
    }
   ],
   "source": [
    "plt.figure(figsize=(6, 4))\n",
    "plt.plot(rewards, linewidth=1.2, color='b')\n",
    "plt.xticks(list(range(0, len(rewards), 2)))\n",
    "plt.xlabel('Time step', fontsize=10)\n",
    "plt.ylabel('Reward', fontsize=10)\n",
    "plt.show()"
   ]
  },
  {
   "cell_type": "markdown",
   "id": "5f76b6fa",
   "metadata": {},
   "source": [
    "<a id='Q1'></a>\n",
    "<div class=\" alert alert-warning\">\n",
    "    <h3><b>Student Question 1</b> Changing Number of Samples (5 points)</h3> \n",
    "\n",
    "Discuss the effect of changing the __number of samples__. How can this affect the performance and running time?            \n",
    "🔝\t<a href='#TOC'><b>Table of Contents</b></a>\n",
    "</div>"
   ]
  },
  {
   "cell_type": "markdown",
   "id": "9496c2df",
   "metadata": {},
   "source": [
    "- When we increase the number of samples, we will have more diverse data, so it is easier for the model to learn a good policy. Additionally, a larger sample can also help the model avoid premature optimization. The opposite argument is for fewer samples, vice versa.\n",
    "\n",
    "- On the other hand, increasing more samples will require more running resources, both in terms of time complexity and space memory. Because of this delayed time, the model will make decisions slower. The opposite argument is for fewer samples, vice versa. Therefore, it is important that we should balance the number of samples to guarantee fast response and good action policy."
   ]
  },
  {
   "cell_type": "markdown",
   "id": "0611beaf",
   "metadata": {},
   "source": [
    "<a id='Q2'></a>\n",
    "<div class=\" alert alert-warning\">\n",
    "    <h3><b>Student Question 1.2</b> Model-free vs Mode-based RL (20 points)</h3> \n",
    "\n",
    "Assume that the dynamics model $s_{t+1} = f(s_t, a_t)$ (when using a probabilistic dynamics model $P(s_{t+1}| s_t, a_t)$) and reward model $R(s_t, a_t)$ are learned from data during training. CEM with learned models can be used to solve similar tasks as model-free reinforcement learning methods such as DDPG.\n",
    "<br>\n",
    "In what kind of tasks do you expect CEM with learned models to work better than DDPG? In which kind of tasks do you expect DDPG to work better than CEM with learned models in terms of performance and training time? Why?\n",
    "<br>\n",
    "Which parts of CEM with a learned dynamics model need to be taken into account when considering computation time and why?\n",
    "    \n",
    "🔝\t<a href='#TOC'><b>Table of Contents</b></a>\n",
    "</div>"
   ]
  },
  {
   "cell_type": "markdown",
   "id": "6a3d8a7e-4bb1-463e-88ab-62270e20d05e",
   "metadata": {},
   "source": [
    "**In what kind of tasks do you expect CEM with learned models to work better than DDPG?** \n",
    "\n",
    "- CEM with learned model uses the samples more efficiently than DDPG, because once a quite accurate model of the environment is learned, the agent can simulate different trajectories using the learned model without relying on additional interactions with the real environment. \n",
    "\n",
    "=> CEM is fit for tasks that are sample-efficient and require less interaction with the environment, such as simulated robotics or game playing where the cost of real-world sampling is high.\n",
    "\n",
    "- More adaptive to environmental changes: CEM with learned models can be quickly updated without being subject to environment noise, because the dynamic model is trained to not overfit the training data. \n",
    "\n",
    "=> CEM is fit for tasks that are dynamic and potentially noisy, such as adaptive control systems where the environment can change unpredictably. For example, a walking robot may continue to walk in balance if it happens to trip over a rock, causing noise in its movement.\n",
    "\n",
    "**In which kind of tasks do you expect DDPG to work better than CEM with learned models in terms of performance and training time? Why?**\n",
    "\n",
    "- Over-reliance on the learned model: the entire performance of the model-based approach heavily relies on the accuracy of the learned dynamics model. If the learned model is not accurate enough, the taken actions might either be sub-optimal or even dangerous. For example, the robot can make wrong or invalid movements, causing it to damage the circuits.\n",
    "\n",
    "=> DDPG is fit for tasks that are complex and where model inaccuracies have significant negative impacts, such as critical systems control where safety and precision are significant.\n",
    "\n",
    "- Faster computation and reaction: Model-based methods like CEM can be computationally intensive during its sampling stage and determining the best action stage, which significantly introduces great latency in decision making process. These problems however are not present in DDPG method.\n",
    "\n",
    "=> DDPG is fit for tasks that are real-time and require fast action selection, such as autonomous driving where decisions need to be made quickly and latency can be detrimental to performance.\n",
    "\n",
    "**Which parts of CEM with a learned dynamics model need to be taken into account when considering computation time and why?**\n",
    "\n",
    "When considering computation time for the Cross-Entropy Method (CEM) with a learned dynamics model, two major factors are:\n",
    "\n",
    "- Sampling: CEM involves generating a large number of action trajectories according to the current policy's probability distribution. First, CEM generates many samples if the action space is high-dimensional; and second, it processes these samples through the dynamics model, which involve complex calculations because the model is a simulator in this case. This sampling process is computationally expensive because it must be repeated every time we need to make a decision.\n",
    "\n",
    "- Selecting the best action: After generating and simulating trajectories, CEM evaluates them based on their expected returns. This involves calculating the cumulative reward for each trajectory. The computational cost here is associated with the evaluation of a potentially large number of trajectories and the subsequent processing required to select the best actions, such as the argpartitioning method used above."
   ]
  },
  {
   "cell_type": "markdown",
   "id": "7e950c66-7183-4d2e-afad-76d44e87ea7e",
   "metadata": {
    "tags": []
   },
   "source": [
    "# 3. Submitting <a id='3.'></a>\n",
    "Ensure all tasks and questions (in ```ex7_MCTS.ipynb```) are answered and the relevant plots are recorded in the relevant places. "
   ]
  },
  {
   "cell_type": "markdown",
   "id": "b3e25649-58a0-448c-9fbc-7e055b20bc84",
   "metadata": {},
   "source": [
    "## 3.1 Feedback <a id='3.1'></a>\n",
    "\n",
    "In order to help the staff of the course as well as the forthcoming students, it would be great if you could answer to the following questions in your submission:"
   ]
  },
  {
   "cell_type": "markdown",
   "id": "d7eb0232-db2a-4e14-b075-9ef187b43b4b",
   "metadata": {},
   "source": [
    "1) How much time did you spend solving this exercise? (change the ```hrs``` variable below to a floating point number representing the number of hours taken e.g. 5.43)\n"
   ]
  },
  {
   "cell_type": "code",
   "execution_count": null,
   "id": "eac81f90-8902-4ed9-922b-b8ded5327c8f",
   "metadata": {},
   "outputs": [],
   "source": [
    "hrs = 4"
   ]
  },
  {
   "cell_type": "markdown",
   "id": "52473cec-5ab3-439f-97ee-85c8796ec469",
   "metadata": {},
   "source": [
    "2) Difficulty of each task/question from 1-5 (int or float)"
   ]
  },
  {
   "cell_type": "code",
   "execution_count": null,
   "id": "d71b2268-cbe3-4df8-a6d0-665aa425f738",
   "metadata": {},
   "outputs": [],
   "source": [
    "T1 = 5 # Student Task 1. Implementing CEM\n",
    "Q1 = 4 # Question 1.1: Number of samples\n",
    "Q2 = 4 # Question 2.1: Model-free vs Model-based"
   ]
  },
  {
   "cell_type": "markdown",
   "id": "52f3e791-b9fc-479c-871d-df4c85ab7dce",
   "metadata": {},
   "source": [
    "3) How well did you understand the content of the task/question from 1-5? (int or float)\n"
   ]
  },
  {
   "cell_type": "code",
   "execution_count": null,
   "id": "62c8c9dd-26cb-4188-90e1-b7fad675da51",
   "metadata": {},
   "outputs": [],
   "source": [
    "T1 = 5 # Student Task 1. Implementing CEM\n",
    "Q1 = 4 # Question 1.1: Number of samples\n",
    "Q2 = 4 # Question 2.1: Model-free vs Model-based"
   ]
  },
  {
   "cell_type": "markdown",
   "id": "3f11c47c-3716-4642-adc5-c4569ac5fd8f",
   "metadata": {},
   "source": [
    "4) General feedback. Consider questions like:\n",
    "\n",
    "    - Did the content of the lecture relate well with the assignment?\n",
    "    - To what extent did you find the material to be potentially useful for your research and studies?\n",
    "    \n",
    "And other feedback you think is worth including. Type in the box below"
   ]
  },
  {
   "cell_type": "markdown",
   "id": "612fef2e-4409-4c86-89f6-cd834300df42",
   "metadata": {},
   "source": [
    "Yes, I believe the lecture is enough to cover the CEM explanation. However, it is better if more resources are given to provide its intuition. At this stage I still have no ideas how CEM can be used in my research. "
   ]
  },
  {
   "cell_type": "markdown",
   "id": "8f9fd0e4-b0fe-4b59-8c8a-c0a51c24d5fe",
   "metadata": {
    "tags": []
   },
   "source": [
    "Please use the following section to record references.\n",
    "# References <a id='4.'></a>\n",
    "\n"
   ]
  },
  {
   "cell_type": "markdown",
   "id": "8cb61e66",
   "metadata": {},
   "source": [
    "## 3.1 Feedback <a id='3.1'></a>\n",
    "In order to help the staff of the course as well as the forthcoming students, it would be great if you could\n",
    "answer feedback questionnaire in ```feedback.ipynb```"
   ]
  }
 ],
 "metadata": {
  "kernelspec": {
   "display_name": "Python 3",
   "language": "python",
   "name": "python3"
  },
  "language_info": {
   "codemirror_mode": {
    "name": "ipython",
    "version": 3
   },
   "file_extension": ".py",
   "mimetype": "text/x-python",
   "name": "python",
   "nbconvert_exporter": "python",
   "pygments_lexer": "ipython3",
   "version": "3.10.8"
  }
 },
 "nbformat": 4,
 "nbformat_minor": 5
}
